{
 "cells": [
  {
   "cell_type": "markdown",
   "metadata": {},
   "source": [
    "<a href='https://www.darshan.ac.in/'> <img src='https://www.darshan.ac.in/Content/media/DU_Logo.svg' width=\"250\" height=\"10\"/></a>\n",
    "<pre>\n",
    "<center><b><h1>Python Programming- - 2301CS404</b></center>\n",
    "<center><h2>Tanisha Bhalodiya - 23010101021</h2></center>\n",
    "<center><b><h1>Lab - 1</b></center>    \n",
    "<pre>"
   ]
  },
  {
   "cell_type": "markdown",
   "metadata": {},
   "source": [
    "### 01) WAP to print “Hello World”"
   ]
  },
  {
   "cell_type": "code",
   "execution_count": 1,
   "metadata": {},
   "outputs": [
    {
     "name": "stdout",
     "output_type": "stream",
     "text": [
      "hello world\n"
     ]
    }
   ],
   "source": [
    " print('hello world')\n"
   ]
  },
  {
   "cell_type": "markdown",
   "metadata": {},
   "source": [
    "### 02) WAP to print addition of two numbers with and without using input()."
   ]
  },
  {
   "cell_type": "code",
   "execution_count": 1,
   "metadata": {},
   "outputs": [
    {
     "name": "stdout",
     "output_type": "stream",
     "text": [
      "Without input sum is :  14\n"
     ]
    },
    {
     "name": "stdin",
     "output_type": "stream",
     "text": [
      "enter a :  5\n",
      "enter b :  6\n"
     ]
    },
    {
     "name": "stdout",
     "output_type": "stream",
     "text": [
      "sum is :  11\n"
     ]
    },
    {
     "name": "stdout",
     "output_type": "stream",
     "text": [
      "sum is :  8\n"
     ]
    }
   ],
   "source": [
    "num1=5\n",
    "num2=9\n",
    "print(\"Without input sum is : \",num1+num2);\n",
    "a=int(input(\"enter a : \"))\n",
    "b=int(input('enter b : '))\n",
    "c=a+b\n",
    "print('sum is : ',c)"
   ]
  },
  {
   "cell_type": "markdown",
   "metadata": {},
   "source": [
    "### 03) WAP to check the type of the variable."
   ]
  },
  {
   "cell_type": "code",
   "execution_count": 7,
   "metadata": {},
   "outputs": [
    {
     "name": "stdout",
     "output_type": "stream",
     "text": [
      "enter variable :  15\n"
     ]
    },
    {
     "name": "stdout",
     "output_type": "stream",
     "text": [
      "<class 'int'>\n"
     ]
    }
   ],
   "source": [
    "var= int(input(\"enter variable : \"))\n",
    "print(type(var))"
   ]
  },
  {
   "cell_type": "markdown",
   "metadata": {},
   "source": [
    "### 04) WAP to calculate simple interest."
   ]
  },
  {
   "cell_type": "code",
   "execution_count": 9,
   "metadata": {},
   "outputs": [
    {
     "name": "stdout",
     "output_type": "stream",
     "text": [
      "Enter principle amount :  1000\n",
      "Enter rate of interest :  2\n",
      "Enter time :  2\n"
     ]
    },
    {
     "name": "stdout",
     "output_type": "stream",
     "text": [
      "Simple interest is :  40.0\n"
     ]
    }
   ],
   "source": [
    "p=float(input(\"Enter principle amount : \"))\n",
    "r=float(input(\"Enter rate of interest : \"))\n",
    "t=float(input(\"Enter time : \"))\n",
    "print(\"Simple interest is : \",(p*r*t)/100)"
   ]
  },
  {
   "cell_type": "markdown",
   "metadata": {},
   "source": [
    "### 05) WAP to calculate area and perimeter of a circle."
   ]
  },
  {
   "cell_type": "code",
   "execution_count": 11,
   "metadata": {},
   "outputs": [
    {
     "name": "stdout",
     "output_type": "stream",
     "text": [
      "enter radius of circle:  5\n"
     ]
    },
    {
     "name": "stdout",
     "output_type": "stream",
     "text": [
      "area of circle :  12.56\n"
     ]
    }
   ],
   "source": [
    "rad=float(input(\"enter radius of circle: \"))\n",
    "print(\"area of circle : \",((3.14)*r*r))"
   ]
  },
  {
   "cell_type": "markdown",
   "metadata": {},
   "source": [
    "### 06) WAP to calculate area of a triangle."
   ]
  },
  {
   "cell_type": "code",
   "execution_count": 13,
   "metadata": {},
   "outputs": [
    {
     "name": "stdout",
     "output_type": "stream",
     "text": [
      "enter base of triangle:  20\n",
      "enter height of triangle:  25\n"
     ]
    },
    {
     "name": "stdout",
     "output_type": "stream",
     "text": [
      "area of triangle :  250.0\n"
     ]
    }
   ],
   "source": [
    "base=float(input(\"enter base of triangle: \"))\n",
    "height=float(input(\"enter height of triangle: \"))\n",
    "print(\"area of triangle : \",((height*base)/2))"
   ]
  },
  {
   "cell_type": "markdown",
   "metadata": {},
   "source": [
    "### 07) WAP to compute quotient and remainder."
   ]
  },
  {
   "cell_type": "code",
   "execution_count": 17,
   "metadata": {},
   "outputs": [
    {
     "name": "stdout",
     "output_type": "stream",
     "text": [
      "Enter number 1:  52\n",
      "Enter number 2:  6\n"
     ]
    },
    {
     "name": "stdout",
     "output_type": "stream",
     "text": [
      "quotient is :  8.666666666666666\n",
      "remainder is :  4.0\n"
     ]
    }
   ],
   "source": [
    "n1=float(input(\"Enter number 1: \"))\n",
    "n2=float(input(\"Enter number 2: \"))\n",
    "print(\"quotient is : \",(n1/n2))\n",
    "print(\"remainder is : \",(n1%n2))"
   ]
  },
  {
   "cell_type": "markdown",
   "metadata": {},
   "source": [
    "### 08) WAP to convert degree into Fahrenheit and vice versa."
   ]
  },
  {
   "cell_type": "code",
   "execution_count": 19,
   "metadata": {},
   "outputs": [
    {
     "name": "stdout",
     "output_type": "stream",
     "text": [
      "Enter calcius :  40\n"
     ]
    },
    {
     "name": "stdout",
     "output_type": "stream",
     "text": [
      "value in fehrenheit :  104.0\n"
     ]
    },
    {
     "name": "stdout",
     "output_type": "stream",
     "text": [
      "Enter fahrenheit :  15\n"
     ]
    },
    {
     "name": "stdout",
     "output_type": "stream",
     "text": [
      "value in calcius :  -9.444444444444445\n"
     ]
    }
   ],
   "source": [
    "cal=float(input(\"Enter calcius : \"))\n",
    "print(\"value in fehrenheit : \",((cal*(9/5))+32))\n",
    "\n",
    "fah=float(input(\"Enter fahrenheit : \"))\n",
    "print(\"value in calcius : \",(fah-32)*(5/9))"
   ]
  },
  {
   "cell_type": "markdown",
   "metadata": {},
   "source": [
    "### 09) WAP to find the distance between two points in 2-D space."
   ]
  },
  {
   "cell_type": "code",
   "execution_count": 27,
   "metadata": {},
   "outputs": [
    {
     "name": "stdout",
     "output_type": "stream",
     "text": [
      "enter x1 : 2\n",
      "enter y1 : 3\n",
      "enter x2 : 5\n",
      "enter y2 : 3\n"
     ]
    },
    {
     "name": "stdout",
     "output_type": "stream",
     "text": [
      "distance between two ponits :  3.0\n"
     ]
    }
   ],
   "source": [
    "import math\n",
    "x1=float(input(\"enter x1 :\" ))\n",
    "y1=float(input(\"enter y1 :\" ))\n",
    "x2=float(input(\"enter x2 :\" ))\n",
    "y2=float(input(\"enter y2 :\" ))\n",
    "print(\"distance between two ponits : \", math.sqrt((x2 - x1)**2 + (y2 - y1)**2))"
   ]
  },
  {
   "cell_type": "markdown",
   "metadata": {},
   "source": [
    "### 10) WAP to print sum of n natural numbers."
   ]
  },
  {
   "cell_type": "code",
   "execution_count": 45,
   "metadata": {},
   "outputs": [
    {
     "name": "stdout",
     "output_type": "stream",
     "text": [
      "Enter n:  2\n"
     ]
    },
    {
     "name": "stdout",
     "output_type": "stream",
     "text": [
      "Sum of first 2 natural numbers is: 3\n"
     ]
    }
   ],
   "source": [
    "n = int(input(\"Enter n: \")) \n",
    "sum = 0  \n",
    "for i in range(1, n + 1):\n",
    "    sum =sum+i \n",
    "\n",
    "print(\"Sum of first\", n, \"natural numbers is:\", sum)"
   ]
  },
  {
   "cell_type": "markdown",
   "metadata": {},
   "source": [
    "### 11) WAP to print sum of square of n natural numbers."
   ]
  },
  {
   "cell_type": "code",
   "execution_count": 51,
   "metadata": {},
   "outputs": [
    {
     "name": "stdout",
     "output_type": "stream",
     "text": [
      "Enter m:  3\n"
     ]
    },
    {
     "name": "stdout",
     "output_type": "stream",
     "text": [
      "Sum of first 3 natural numbers is: 14\n"
     ]
    }
   ],
   "source": [
    "m = int(input(\"Enter m: \")) \n",
    "sum = 0  \n",
    "for i in range(1, m + 1):\n",
    "    sum =sum+(i)*(i) \n",
    "\n",
    "print(\"Sum of first\", m, \"natural numbers is:\", sum)"
   ]
  },
  {
   "cell_type": "markdown",
   "metadata": {},
   "source": [
    "### 12) WAP to concate the first and last name of the student."
   ]
  },
  {
   "cell_type": "code",
   "execution_count": 61,
   "metadata": {},
   "outputs": [
    {
     "name": "stdout",
     "output_type": "stream",
     "text": [
      "Enter first name :  tanisha\n",
      "Enter last name :  patel\n"
     ]
    },
    {
     "name": "stdout",
     "output_type": "stream",
     "text": [
      "Full name is :  tanisha patel\n"
     ]
    }
   ],
   "source": [
    "fName=input(\"Enter first name : \")\n",
    "lName=input(\"Enter last name : \")\n",
    "full=fName + \" \" +lName\n",
    "print(\"Full name is : \",full)"
   ]
  },
  {
   "cell_type": "markdown",
   "metadata": {},
   "source": [
    "### 13) WAP to swap two numbers."
   ]
  },
  {
   "cell_type": "code",
   "execution_count": 69,
   "metadata": {},
   "outputs": [
    {
     "name": "stdout",
     "output_type": "stream",
     "text": [
      "with hepl of third variable : \n"
     ]
    },
    {
     "name": "stdout",
     "output_type": "stream",
     "text": [
      "enter number 1:  5\n",
      "enter number 2:  2\n"
     ]
    },
    {
     "name": "stdout",
     "output_type": "stream",
     "text": [
      "number 1 is :  2 number 2 is :  5\n",
      "without third variable: \n",
      "number 1 is :  5 number 2 is :  2\n"
     ]
    }
   ],
   "source": [
    "print(\"with hepl of third variable : \")\n",
    "l1=int(input(\"enter number 1: \"))\n",
    "l2=int(input(\"enter number 2: \"))\n",
    "l3=l1\n",
    "l1=l2\n",
    "l2=l3\n",
    "print(\"number 1 is : \",l1,\"number 2 is : \",l2)\n",
    "print(\"without third variable: \")\n",
    "l1=l1+l2 #2+5=7\n",
    "l2=l1-l2 #7-5=2\n",
    "l1=l1-l2 #7-2=5\n",
    "print(\"number 1 is : \",l1,\"number 2 is : \",l2)"
   ]
  },
  {
   "cell_type": "markdown",
   "metadata": {},
   "source": [
    "### 14) WAP to get the distance from user into kilometer, and convert it into meter, feet, inches and centimeter."
   ]
  },
  {
   "cell_type": "code",
   "execution_count": 73,
   "metadata": {},
   "outputs": [
    {
     "name": "stdout",
     "output_type": "stream",
     "text": [
      "enter distance in kilometers :  20\n"
     ]
    },
    {
     "name": "stdout",
     "output_type": "stream",
     "text": [
      "20.0 kilometers is equal to:\n",
      "20000.0 meters\n",
      "65616.8 feet\n",
      "787402.0 inches\n",
      "2000000.0 centimeters\n"
     ]
    }
   ],
   "source": [
    "km=float(input(\"enter distance in kilometers : \"))\n",
    "meter=km * 1000\n",
    "feet = km * 3280.84\n",
    "inches = km * 39370.1\n",
    "centimeters = km * 100000\n",
    "print(f\"{meter} meters\")\n",
    "print(f\"{feet} feet\")\n",
    "print(f\"{inches} inches\")\n",
    "print(f\"{centimeters} centimeters\")"
   ]
  },
  {
   "cell_type": "markdown",
   "metadata": {},
   "source": [
    "### 15) WAP to get day, month and year from the user and print the date in the given format: 23-11-2024."
   ]
  },
  {
   "cell_type": "code",
   "execution_count": 79,
   "metadata": {},
   "outputs": [
    {
     "name": "stdout",
     "output_type": "stream",
     "text": [
      "enter days :  23\n",
      "enter month :  11\n",
      "enter year :  2024\n"
     ]
    },
    {
     "name": "stdout",
     "output_type": "stream",
     "text": [
      "23-11-2024\n",
      "23 - 11 - 2024\n"
     ]
    }
   ],
   "source": [
    "day=int(input(\"enter days : \"))\n",
    "month=int(input(\"enter month : \"))\n",
    "year=int(input(\"enter year : \"))\n",
    "print(f\"{day:02d}-{month:02d}-{year}\")\n",
    "print(day,\"-\",month,\"-\",year)"
   ]
  },
  {
   "cell_type": "code",
   "execution_count": 3,
   "metadata": {},
   "outputs": [
    {
     "name": "stdout",
     "output_type": "stream",
     "text": [
      "3\n"
     ]
    },
    {
     "ename": "AttributeError",
     "evalue": "'Date' object has no attribute '_Date__day'",
     "output_type": "error",
     "traceback": [
      "\u001b[1;31m---------------------------------------------------------------------------\u001b[0m",
      "\u001b[1;31mAttributeError\u001b[0m                            Traceback (most recent call last)",
      "Cell \u001b[1;32mIn[3], line 14\u001b[0m\n\u001b[0;32m     11\u001b[0m         \u001b[38;5;28mself\u001b[39m\u001b[38;5;241m.\u001b[39m__displaydate()\n\u001b[0;32m     13\u001b[0m d1 \u001b[38;5;241m=\u001b[39m Date(\u001b[38;5;241m3\u001b[39m, \u001b[38;5;241m3\u001b[39m, \u001b[38;5;241m2025\u001b[39m)\n\u001b[1;32m---> 14\u001b[0m d1\u001b[38;5;241m.\u001b[39mdisplay()\n",
      "Cell \u001b[1;32mIn[3], line 11\u001b[0m, in \u001b[0;36mDate.display\u001b[1;34m(self)\u001b[0m\n\u001b[0;32m     10\u001b[0m \u001b[38;5;28;01mdef\u001b[39;00m \u001b[38;5;21mdisplay\u001b[39m(\u001b[38;5;28mself\u001b[39m):\n\u001b[1;32m---> 11\u001b[0m     \u001b[38;5;28mself\u001b[39m\u001b[38;5;241m.\u001b[39m__displaydate()\n",
      "Cell \u001b[1;32mIn[3], line 8\u001b[0m, in \u001b[0;36mDate.__displaydate\u001b[1;34m(self)\u001b[0m\n\u001b[0;32m      6\u001b[0m \u001b[38;5;28;01mdef\u001b[39;00m \u001b[38;5;21m__displaydate\u001b[39m(\u001b[38;5;28mself\u001b[39m):\n\u001b[0;32m      7\u001b[0m     \u001b[38;5;28mprint\u001b[39m(\u001b[38;5;28mself\u001b[39m\u001b[38;5;241m.\u001b[39m__month)\n\u001b[1;32m----> 8\u001b[0m     \u001b[38;5;28mprint\u001b[39m(\u001b[38;5;28mself\u001b[39m\u001b[38;5;241m.\u001b[39m__day)\n\u001b[0;32m      9\u001b[0m     \u001b[38;5;28mprint\u001b[39m(\u001b[38;5;28mself\u001b[39m\u001b[38;5;241m.\u001b[39m__year)\n",
      "\u001b[1;31mAttributeError\u001b[0m: 'Date' object has no attribute '_Date__day'"
     ]
    }
   ],
   "source": [
    "class Date:\n",
    "    def __init__(self,d,m,y):\n",
    "        self._day = d\n",
    "        self.__month = m\n",
    "        self.__year = y\n",
    "    def __displaydate(self):\n",
    "        print(self.__month)\n",
    "        print(self.__day)\n",
    "        print(self.__year)\n",
    "    def display(self):\n",
    "        self.__displaydate()\n",
    "    \n",
    "d1 = Date(3, 3, 2025)\n",
    "d1.display()"
   ]
  },
  {
   "cell_type": "code",
   "execution_count": 5,
   "metadata": {},
   "outputs": [
    {
     "name": "stdout",
     "output_type": "stream",
     "text": [
      "3\n",
      "3\n",
      "2025\n"
     ]
    }
   ],
   "source": [
    "class Date: \n",
    "    def __init__(self, d, m, y):\n",
    "        self._day = d\n",
    "        self.__month = m\n",
    "        self.__year = y\n",
    "\n",
    "    def __displaydate(self):  # Private method\n",
    "        print(self.__month)\n",
    "        print(self._day)   # Corrected: using _day instead of __day (which doesn't exist)\n",
    "        print(self.__year)\n",
    "\n",
    "    def display(self):  # Public method calling private method\n",
    "        self.__displaydate()\n",
    "    \n",
    "d1 = Date(3, 3, 2025)\n",
    "d1.display()  # Removed extra space\n"
   ]
  },
  {
   "cell_type": "code",
   "execution_count": 21,
   "metadata": {},
   "outputs": [
    {
     "name": "stdout",
     "output_type": "stream",
     "text": [
      "Xyz abc\n",
      "Xyz abc 2015\n"
     ]
    }
   ],
   "source": [
    "class Person:\n",
    "    def __init__(self, fnm, lnm):\n",
    "        self.FirstName = fnm\n",
    "        self.LastName = lnm\n",
    "    def displayPerson(self):\n",
    "        print(self.FirstName, self.LastName)\n",
    "\n",
    "class Student(Person):\n",
    "    def __init__(self, fnm, lnm , gyear):\n",
    "        self.Graduate_year = gyear\n",
    "        # super().__init__(fnm, lnm)\n",
    "        Person.__init__(self,fnm,lnm)\n",
    "    def displayStudent(self):\n",
    "        print(self.FirstName, self.LastName, self.Graduate_year)\n",
    "s1 = Student(\"Xyz\", \"abc\", 2015)\n",
    "s1.displayPerson()\n",
    "s1.displayStudent()"
   ]
  },
  {
   "cell_type": "code",
   "execution_count": 33,
   "metadata": {},
   "outputs": [
    {
     "name": "stdout",
     "output_type": "stream",
     "text": [
      "This is rectangle.\n"
     ]
    },
    {
     "ename": "TypeError",
     "evalue": "Can't instantiate abstract class Shape without an implementation for abstract method 'show'",
     "output_type": "error",
     "traceback": [
      "\u001b[1;31m---------------------------------------------------------------------------\u001b[0m",
      "\u001b[1;31mTypeError\u001b[0m                                 Traceback (most recent call last)",
      "Cell \u001b[1;32mIn[33], line 15\u001b[0m\n\u001b[0;32m     13\u001b[0m r1 \u001b[38;5;241m=\u001b[39m Rectangle()\n\u001b[0;32m     14\u001b[0m r1\u001b[38;5;241m.\u001b[39mshow()\n\u001b[1;32m---> 15\u001b[0m ob \u001b[38;5;241m=\u001b[39m Shape()\n",
      "\u001b[1;31mTypeError\u001b[0m: Can't instantiate abstract class Shape without an implementation for abstract method 'show'"
     ]
    }
   ],
   "source": [
    "from abc import ABC, abstractmethod\n",
    "class Shape(ABC):\n",
    "    @abstractmethod\n",
    "    def show(self):\n",
    "        pass\n",
    "    def print(self):\n",
    "        print(\"hello\")\n",
    "class Rectangle(Shape):\n",
    "    def show(self):\n",
    "        print(\"This is rectangle.\")\n",
    "    def print1(self):\n",
    "        print(\"hello\")\n",
    "r1 = Rectangle()\n",
    "r1.show()\n",
    "ob = Shape()"
   ]
  },
  {
   "cell_type": "code",
   "execution_count": null,
   "metadata": {},
   "outputs": [],
   "source": []
  },
  {
   "cell_type": "code",
   "execution_count": 13,
   "metadata": {},
   "outputs": [
    {
     "ename": "TypeError",
     "evalue": "Car.__init__() missing 1 required positional argument: 'name'",
     "output_type": "error",
     "traceback": [
      "\u001b[1;31m---------------------------------------------------------------------------\u001b[0m",
      "\u001b[1;31mTypeError\u001b[0m                                 Traceback (most recent call last)",
      "Cell \u001b[1;32mIn[13], line 6\u001b[0m\n\u001b[0;32m      3\u001b[0m         \u001b[38;5;28mself\u001b[39m\u001b[38;5;241m.\u001b[39mname\u001b[38;5;241m=\u001b[39mname\n\u001b[0;32m      5\u001b[0m c\u001b[38;5;241m=\u001b[39mCar(\u001b[38;5;124m'\u001b[39m\u001b[38;5;124mhii\u001b[39m\u001b[38;5;124m'\u001b[39m)\n\u001b[1;32m----> 6\u001b[0m c1\u001b[38;5;241m=\u001b[39mCar()\n",
      "\u001b[1;31mTypeError\u001b[0m: Car.__init__() missing 1 required positional argument: 'name'"
     ]
    }
   ],
   "source": [
    "class Car:\n",
    "    def __init__(self,name):\n",
    "        self.name=name\n",
    "\n",
    "c=Car('hii')\n",
    "c1=Car()"
   ]
  },
  {
   "cell_type": "code",
   "execution_count": 5,
   "metadata": {},
   "outputs": [
    {
     "name": "stdout",
     "output_type": "stream",
     "text": [
      "t\n",
      "a\n",
      "n\n",
      "i\n",
      "s\n",
      "h\n",
      "a\n",
      "v\n",
      "i\n",
      "r\n",
      "a\n",
      "n\n",
      "g\n",
      "i\n"
     ]
    }
   ],
   "source": [
    "s='Tanisha'\n",
    "l=['tanisha','virangi']\n",
    "for i in l:\n",
    "    for j in i:\n",
    "        print(j)"
   ]
  },
  {
   "cell_type": "code",
   "execution_count": 13,
   "metadata": {},
   "outputs": [
    {
     "name": "stdout",
     "output_type": "stream",
     "text": [
      "True\n"
     ]
    }
   ],
   "source": [
    "print('abc'.isalpha())"
   ]
  },
  {
   "cell_type": "code",
   "execution_count": 41,
   "metadata": {},
   "outputs": [
    {
     "name": "stdout",
     "output_type": "stream",
     "text": [
      "no is palindrome\n",
      "number is not palindrome\n"
     ]
    }
   ],
   "source": [
    "n=123321\n",
    "a=n\n",
    "res=0\n",
    "s1=str(n)\n",
    "s2=s1[::-1]\n",
    "if(s1==s2):\n",
    "    print('no is palindrome')\n",
    "while(n>0):\n",
    "    r=n%10\n",
    "    res=res*10+r\n",
    "    n=n/10\n",
    "if(res==int(a)):\n",
    "    print('Number is palindrome')\n",
    "else:\n",
    "    print('number is not palindrome')"
   ]
  },
  {
   "cell_type": "code",
   "execution_count": 49,
   "metadata": {},
   "outputs": [
    {
     "name": "stdout",
     "output_type": "stream",
     "text": [
      "7 27 194\n"
     ]
    }
   ],
   "source": [
    "with open('file1.txt','r') as fp:\n",
    "    l=0\n",
    "    w=0\n",
    "    c=0\n",
    "    for i in fp:\n",
    "        l=l+1\n",
    "        words=i.split()\n",
    "        w=w+len(words)\n",
    "        c=c+len(i)\n",
    "print(l,w,c)"
   ]
  },
  {
   "cell_type": "code",
   "execution_count": 63,
   "metadata": {},
   "outputs": [
    {
     "name": "stdout",
     "output_type": "stream",
     "text": [
      "1 2 4 8 16 32 64 "
     ]
    }
   ],
   "source": [
    "def factors(a):\n",
    "    for i in range(1,a+1):\n",
    "        if(a%i==0):\n",
    "            print(i,end=' ')\n",
    "\n",
    "factors(64)"
   ]
  },
  {
   "cell_type": "code",
   "execution_count": 71,
   "metadata": {},
   "outputs": [
    {
     "data": {
      "image/png": "[encoded data removed]",
      "text/plain": [
       "<Figure size 640x480 with 1 Axes>"
      ]
     },
     "metadata": {},
     "output_type": "display_data"
    }
   ],
   "source": [
    "import matplotlib.pyplot as plt\n",
    "x1=[1,2,3,4,5]\n",
    "y1=[10,20,30,40,50]\n",
    "x2=[10,8,9,2,7]\n",
    "y2=[50,40,30,20,10]\n",
    "plt.plot(x1,y1,c='r',lw=1,ls=':',marker='^')\n",
    "plt.plot(x2,y2,c='b',lw=2,ls='-',marker='o')\n",
    "plt.show()"
   ]
  },
  {
   "cell_type": "code",
   "execution_count": 81,
   "metadata": {},
   "outputs": [],
   "source": [
    "with open('file1.txt','r') as fp1:\n",
    "    with open('file1Copy.txt','w') as fp2:\n",
    "        a=fp1.read()\n",
    "        new=a.replace('python','PYTHON')\n",
    "        fp2.write(new)"
   ]
  },
  {
   "cell_type": "code",
   "execution_count": 93,
   "metadata": {},
   "outputs": [
    {
     "data": {
      "image/png": "[encoded data removed]",
      "text/plain": [
       "<Figure size 640x480 with 2 Axes>"
      ]
     },
     "metadata": {},
     "output_type": "display_data"
    }
   ],
   "source": [
    "import random\n",
    "import matplotlib.pyplot as plt\n",
    "\n",
    "# Step 1: Generate random dataset of 100 scores (range 0 to 100)\n",
    "scores = [random.randint(0, 100) for _ in range(100)]\n",
    "\n",
    "\n",
    "# Step 2: Create a histogram with 10 bins\n",
    "plt.subplot(1, 2, 1)\n",
    "plt.hist(scores, bins=10, edgecolor='black', color='skyblue')\n",
    "plt.title('Histogram of Student Scores')\n",
    "plt.xlabel('Score Ranges')\n",
    "plt.ylabel('Number of Students')\n",
    "\n",
    "# Step 3: Create a box plot\n",
    "plt.subplot(1, 2, 2)\n",
    "plt.boxplot(scores, vert=False)\n",
    "plt.title('Box Plot of Student Scores')\n",
    "plt.xlabel('Scores')\n",
    "\n",
    "# Show both plots\n",
    "# plt.tight_layout()\n",
    "plt.show()\n"
   ]
  },
  {
   "cell_type": "code",
   "execution_count": 113,
   "metadata": {},
   "outputs": [
    {
     "name": "stdout",
     "output_type": "stream",
     "text": [
      "0\n",
      "1\n",
      "2\n",
      "3\n",
      "4\n"
     ]
    },
    {
     "data": {
      "image/png": "[encoded data removed]",
      "text/plain": [
       "<Figure size 640x480 with 1 Axes>"
      ]
     },
     "metadata": {},
     "output_type": "display_data"
    }
   ],
   "source": [
    "import matplotlib.pyplot as plt\n",
    "\n",
    "# Data\n",
    "products = ['A', 'B', 'C', 'D', 'E']\n",
    "sales = [500, 700, 400, 900, 600]\n",
    "\n",
    "# Create bar chart\n",
    "plt.bar(products, sales)\n",
    "\n",
    "# Add labels above bars\n",
    "for i in range(len(products)):\n",
    "    print(i)\n",
    "    plt.text(i, sales[i] + 10, str(sales[i]), ha='center')\n",
    "\n",
    "# Add labels and title\n",
    "plt.xlabel('Products')\n",
    "plt.ylabel('Sales')\n",
    "plt.title('Sales Performance')\n",
    "\n",
    "# Show chart\n",
    "plt.show()\n"
   ]
  },
  {
   "cell_type": "code",
   "execution_count": 127,
   "metadata": {},
   "outputs": [
    {
     "name": "stdout",
     "output_type": "stream",
     "text": [
      "Result of addition:\n",
      "8 + 10i\n"
     ]
    }
   ],
   "source": [
    "class ComplexNumber:\n",
    "    def __init__(self, real=0, imag=0):\n",
    "        self.real = real\n",
    "        self.imag = imag\n",
    "\n",
    "    def display(self):\n",
    "        print(f\"{self.real} + {self.imag}i\")\n",
    "\n",
    "    def addComplexNumber(self, c1, c2):\n",
    "        self.real = c1.real + c2.real\n",
    "        self.imag = c1.imag + c2.imag\n",
    "\n",
    "# Example usage\n",
    "c1 = ComplexNumber(3, 4)\n",
    "c2 = ComplexNumber(5, 6)\n",
    "c3 = ComplexNumber()\n",
    "\n",
    "c3.addComplexNumber(c1, c2)\n",
    "print(\"Result of addition:\")\n",
    "c3.display()\n"
   ]
  },
  {
   "cell_type": "code",
   "execution_count": 133,
   "metadata": {},
   "outputs": [
    {
     "name": "stdout",
     "output_type": "stream",
     "text": [
      "not perfect\n"
     ]
    }
   ],
   "source": [
    "# Write a program to check whether given number is perfect or not.\n",
    "n=12\n",
    "s=0\n",
    "if n<0 :\n",
    "    print('Number is not perfect')\n",
    "for i in range(1,n):\n",
    "    if n%i==0:\n",
    "        s=s+i\n",
    "\n",
    "if s==n:\n",
    "    print('Number is perfect')\n",
    "else:\n",
    "    print('not perfect')"
   ]
  },
  {
   "cell_type": "code",
   "execution_count": 139,
   "metadata": {},
   "outputs": [
    {
     "data": {
      "image/png": "[encoded data removed]",
      "text/plain": [
       "<Figure size 800x800 with 1 Axes>"
      ]
     },
     "metadata": {},
     "output_type": "display_data"
    }
   ],
   "source": [
    "import matplotlib.pyplot as plt\n",
    "\n",
    "# Data\n",
    "regions = ['North', 'East', 'South', 'West']\n",
    "populations = [491064, 283445, 128753, 263391]\n",
    "colors = ['red', 'green', 'yellow', 'cyan']\n",
    "explode = [0.5, 0.0, 0.0, 0.0]  # Highlight 'North'\n",
    "\n",
    "# Create pie chart\n",
    "plt.figure(figsize=(8, 8))\n",
    "plt.pie(populations, colors=colors, labels=regions, explode=explode, \n",
    "        autopct='%1.1f%%')\n",
    "\n",
    "# Title\n",
    "plt.title('Region-wise Population Distribution')\n",
    "\n",
    "# Display chart\n",
    "plt.show()"
   ]
  },
  {
   "cell_type": "code",
   "execution_count": 141,
   "metadata": {},
   "outputs": [
    {
     "data": {
      "image/png": "[encoded data removed]",
      "text/plain": [
       "<Figure size 640x480 with 1 Axes>"
      ]
     },
     "metadata": {},
     "output_type": "display_data"
    }
   ],
   "source": [
    "import matplotlib.pyplot as plt\n",
    "\n",
    "# Data\n",
    "saving_percent = [20, 30, 40, 50]\n",
    "no_of_employees = [105, 199, 29, 73]\n",
    "colors = ['red', 'green', 'yellow', 'cyan']\n",
    "\n",
    "# Create bar chart\n",
    "plt.bar(saving_percent, no_of_employees, color=colors)\n",
    "\n",
    "# Labels and title\n",
    "plt.xlabel('Saving (%)')\n",
    "plt.ylabel('Number of Employees')\n",
    "plt.title('Monthly Salary Saving Percentage by Employees')\n",
    "\n",
    "# Show chart\n",
    "plt.show()"
   ]
  },
  {
   "cell_type": "code",
   "execution_count": 151,
   "metadata": {},
   "outputs": [
    {
     "name": "stdout",
     "output_type": "stream",
     "text": [
      "Reverse number is :  651\n"
     ]
    }
   ],
   "source": [
    "# Write a program to print a given number in reverse order. \n",
    "n=156\n",
    "res=0\n",
    "while n>0:\n",
    "    res=res*10 + (n%10)\n",
    "    n=n//10\n",
    "print('Reverse number is : ',res)"
   ]
  },
  {
   "cell_type": "code",
   "execution_count": 164,
   "metadata": {},
   "outputs": [
    {
     "name": "stdout",
     "output_type": "stream",
     "text": [
      "\n",
      "Word Count:\n",
      "hi: 1\n",
      "hello: 1\n",
      "from: 1\n",
      "python: 2\n",
      "how: 1\n",
      "are: 1\n",
      "you: 1\n",
      ": 1\n",
      "is: 1\n",
      "a: 1\n",
      "high-level: 1\n",
      "general-purpose: 1\n",
      "programming: 1\n",
      "language: 1\n",
      "its: 1\n",
      "design: 1\n",
      "philosophy: 1\n",
      "emphasizes: 1\n",
      "code: 1\n",
      "readability: 1\n",
      "with: 1\n",
      "the: 1\n",
      "use: 1\n",
      "of: 1\n",
      "significant: 1\n",
      "indentation: 1\n"
     ]
    }
   ],
   "source": [
    "# Write a program that reads a file and counts the number of word occurrences.\n",
    "\n",
    "word_count={}\n",
    "with open('file1.txt', 'r') as file:\n",
    "    text = file.read()\n",
    "    words = text.split()  # Split text into words\n",
    "\n",
    "        # Count each word\n",
    "    for word in words:\n",
    "        word = word.lower().strip(\".,!?\")  # Clean punctuation\n",
    "        if word in word_count:\n",
    "            word_count[word] += 1\n",
    "        else:\n",
    "            word_count[word] = 1\n",
    "\n",
    "# Print results\n",
    "print(\"\\nWord Count:\")\n",
    "for word, count in word_count.items():\n",
    "    print(f\"{word}: {count}\")"
   ]
  },
  {
   "cell_type": "code",
   "execution_count": 1,
   "metadata": {},
   "outputs": [
    {
     "name": "stdout",
     "output_type": "stream",
     "text": [
      "My name is nihar\n"
     ]
    }
   ],
   "source": [
    "print('My name is nihar')"
   ]
  },
  {
   "cell_type": "code",
   "execution_count": 17,
   "metadata": {},
   "outputs": [
    {
     "name": "stdin",
     "output_type": "stream",
     "text": [
      "Enter your age :  12\n"
     ]
    },
    {
     "name": "stdout",
     "output_type": "stream",
     "text": [
      "12\n",
      "<class 'int'>\n"
     ]
    }
   ],
   "source": [
    "a=int(input('Enter your age : '))\n",
    "print(a,)\n",
    "print(type(a))"
   ]
  },
  {
   "cell_type": "code",
   "execution_count": null,
   "metadata": {},
   "outputs": [],
   "source": []
  }
 ],
 "metadata": {
  "kernelspec": {
   "display_name": "Python 3 (ipykernel)",
   "language": "python",
   "name": "python3"
  },
  "language_info": {
   "codemirror_mode": {
    "name": "ipython",
    "version": 3
   },
   "file_extension": ".py",
   "mimetype": "text/x-python",
   "name": "python",
   "nbconvert_exporter": "python",
   "pygments_lexer": "ipython3",
   "version": "3.12.7"
  },
  "vscode": {
   "interpreter": {
    "hash": "31f2aee4e71d21fbe5cf8b01ff0e069b9275f58929596ceb00d14d90e3e16cd6"
   }
  }
 },
 "nbformat": 4,
 "nbformat_minor": 4
}
