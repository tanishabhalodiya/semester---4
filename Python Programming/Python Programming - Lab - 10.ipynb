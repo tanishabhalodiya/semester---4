{
 "cells": [
  {
   "cell_type": "markdown",
   "metadata": {},
   "source": [
    "<a href='https://www.darshan.ac.in/'> <img src='https://www.darshan.ac.in/Content/media/DU_Logo.svg' width=\"250\" height=\"300\"/></a>\n",
    "<pre>\n",
    "<center><b><h1>Python Programming - 2301CS404</b></center>\n",
    "<center><b><h1>Tanisha Bhalodiya - 23010101021</b></center>\n",
    "<center><b><h1>Lab - 10</b></center>    \n",
    "<pre>"
   ]
  },
  {
   "cell_type": "markdown",
   "metadata": {},
   "source": [
    "# Exception Handling"
   ]
  },
  {
   "cell_type": "markdown",
   "metadata": {},
   "source": [
    "<h3> 01) WAP to handle following exceptions:\n",
    "1. ZeroDivisionError\n",
    "2. ValueError\n",
    "3. TypeError\n",
    "#### Note: handle them using separate except blocks and also using single except block too.</h3>"
   ]
  },
  {
   "cell_type": "code",
   "execution_count": 15,
   "metadata": {},
   "outputs": [
    {
     "name": "stdin",
     "output_type": "stream",
     "text": [
      "Enter number 1 :  10\n",
      "Enter number 2 :  ddd\n"
     ]
    },
    {
     "name": "stdout",
     "output_type": "stream",
     "text": [
      "Value error occur\n"
     ]
    }
   ],
   "source": [
    "# USING SEPARATE EXCEPT BLOCK\n",
    "try:\n",
    "    n1=int(input('Enter number 1 : '))\n",
    "    n2=int(input('Enter number 2 : '))\n",
    "    ans=n1/n2\n",
    "    print('answer is : ',ans)\n",
    "except ZeroDivisionError:\n",
    "    print('zero division error')\n",
    "except ValueError:\n",
    "    print('Value error occur')\n",
    "except TypeError:\n",
    "    print('Type error')"
   ]
  },
  {
   "cell_type": "code",
   "execution_count": 7,
   "metadata": {},
   "outputs": [
    {
     "name": "stdin",
     "output_type": "stream",
     "text": [
      "Enter number a :  10\n",
      "Enter number b :  0\n"
     ]
    },
    {
     "name": "stdout",
     "output_type": "stream",
     "text": [
      "Error  : division by zero\n"
     ]
    }
   ],
   "source": [
    "# USING SINGLE EXCEPT BLOCK\n",
    "try:\n",
    "    a=int(input('Enter number a : '))\n",
    "    b=int(input('Enter number b : '))\n",
    "    print(a/b)\n",
    "    \n",
    "except (ZeroDivisionError,ValueError,TypeError) as err:\n",
    "    print(f'Error  : {err}')"
   ]
  },
  {
   "cell_type": "markdown",
   "metadata": {},
   "source": [
    "### 02)  WAP to handle following exceptions:\n",
    "1. IndexError\n",
    "2. KeyError"
   ]
  },
  {
   "cell_type": "code",
   "execution_count": 25,
   "metadata": {},
   "outputs": [
    {
     "name": "stdin",
     "output_type": "stream",
     "text": [
      "Enter index :  5\n"
     ]
    },
    {
     "name": "stdout",
     "output_type": "stream",
     "text": [
      "Index error occur\n"
     ]
    },
    {
     "name": "stdin",
     "output_type": "stream",
     "text": [
      "Enter key :  surname\n"
     ]
    },
    {
     "name": "stdout",
     "output_type": "stream",
     "text": [
      "Key error occur\n"
     ]
    }
   ],
   "source": [
    "# INDEX ERROR\n",
    "try:\n",
    "    l1=[1,2,3,4,5]\n",
    "    i=int(input('Enter index : '))\n",
    "    print(l1[i])\n",
    "except IndexError:\n",
    "    print('Index error occur')\n",
    "\n",
    "# KEY ERROR\n",
    "try:\n",
    "    m1={'name':'Kartik','age':25}\n",
    "    key=input('Enter key : ')\n",
    "    print(m1[key])\n",
    "except KeyError:\n",
    "    print('Key error occur')c"
   ]
  },
  {
   "cell_type": "markdown",
   "metadata": {},
   "source": [
    "### 03) WAP to handle following exceptions:\n",
    "1. FileNotFoundError\n",
    "2. ModuleNotFoundError"
   ]
  },
  {
   "cell_type": "code",
   "execution_count": 3,
   "metadata": {},
   "outputs": [
    {
     "name": "stdout",
     "output_type": "stream",
     "text": [
      "File not found please make it first\n",
      "Module not found please check it\n"
     ]
    }
   ],
   "source": [
    "# FILE NOT FOUND ERROR\n",
    "try:\n",
    "    fp=open('xyz.txt','r')\n",
    "except FileNotFoundError:\n",
    "    print('File not found please make it first')\n",
    "\n",
    "\n",
    "# Module not found error\n",
    "try:\n",
    "    import maths\n",
    "except ModuleNotFoundError:\n",
    "    print('Module not found please check it')"
   ]
  },
  {
   "cell_type": "markdown",
   "metadata": {},
   "source": [
    "### 04) WAP that catches all type of exceptions in a single except block."
   ]
  },
  {
   "cell_type": "code",
   "execution_count": 35,
   "metadata": {},
   "outputs": [
    {
     "name": "stdin",
     "output_type": "stream",
     "text": [
      "Enter number 1 :  1\n",
      "Enter number 2 :  0\n"
     ]
    },
    {
     "name": "stdout",
     "output_type": "stream",
     "text": [
      "error occured :  division by zero\n"
     ]
    }
   ],
   "source": [
    "try:\n",
    "    a=int(input('Enter number 1 : '))\n",
    "    b=int(input('Enter number 2 : '))\n",
    "    sum1=a+b\n",
    "    div=a/b\n",
    "    print('division is : ',div)\n",
    "    print('Sum is : ',sum1)\n",
    "except Exception as e:\n",
    "    print('error occured : ',e)"
   ]
  },
  {
   "cell_type": "markdown",
   "metadata": {},
   "source": [
    "### 05) WAP to demonstrate else  and finally block."
   ]
  },
  {
   "cell_type": "code",
   "execution_count": 50,
   "metadata": {},
   "outputs": [
    {
     "name": "stdin",
     "output_type": "stream",
     "text": [
      "Enter number 1 :  1\n",
      "Enter number 2 :  0\n"
     ]
    },
    {
     "name": "stdout",
     "output_type": "stream",
     "text": [
      "division by zero\n",
      "Finally block which always executed\n"
     ]
    }
   ],
   "source": [
    "try:\n",
    "    a=int(input('Enter number 1 : '))\n",
    "    b=int(input('Enter number 2 : '))\n",
    "    div=a/b\n",
    "except ZeroDivisionError as err:\n",
    "    print(err)\n",
    "else:\n",
    "    print('division is : ',div)\n",
    "finally:\n",
    "    print('Finally block which always executed')"
   ]
  },
  {
   "cell_type": "markdown",
   "metadata": {},
   "source": [
    "### 06) Create a short program that prompts the user for a list of grades separated by commas. \n",
    "### Split the string into individual grades and use a list comprehension to convert each string to an integer. \n",
    "### You should use a try statement to inform the user when the values they entered cannot be converted."
   ]
  },
  {
   "cell_type": "code",
   "execution_count": 60,
   "metadata": {},
   "outputs": [
    {
     "name": "stdin",
     "output_type": "stream",
     "text": [
      "Enter string of grade seperated by comma :  dhbh\n"
     ]
    },
    {
     "name": "stdout",
     "output_type": "stream",
     "text": [
      "Error is :  invalid literal for int() with base 10: 'dhbh'\n"
     ]
    }
   ],
   "source": [
    "try:\n",
    "    str1=input('Enter string of grade seperated by comma : ')\n",
    "    grades=[int(g) for g in str1.split(',')]\n",
    "    print('We have grades : ',grades)\n",
    "except Exception as e:\n",
    "    print('Error is : ',e)"
   ]
  },
  {
   "cell_type": "markdown",
   "metadata": {},
   "source": [
    "### 07) WAP to create an udf divide(a,b) that handles ZeroDivisionError."
   ]
  },
  {
   "cell_type": "code",
   "execution_count": 64,
   "metadata": {},
   "outputs": [
    {
     "name": "stdin",
     "output_type": "stream",
     "text": [
      "Enter a :  1\n",
      "Enter b :  0\n"
     ]
    },
    {
     "name": "stdout",
     "output_type": "stream",
     "text": [
      "division by zero is not allowed\n"
     ]
    }
   ],
   "source": [
    "def divide(a,b):\n",
    "    try:\n",
    "        res=a/b\n",
    "        return res\n",
    "    except ZeroDivisionError:\n",
    "        return 'division by zero is not allowed'\n",
    "\n",
    "a=int(input('Enter a : '))\n",
    "b=int(input('Enter b : '))\n",
    "ans=divide(a,b)\n",
    "print(ans)"
   ]
  },
  {
   "cell_type": "markdown",
   "metadata": {},
   "source": [
    "### 08) WAP that gets an age of a person form the user and raises ValueError with error message: \"Enter Valid Age\" :\n",
    "#### If the age is less than 18. \n",
    "#### otherwise print the age."
   ]
  },
  {
   "cell_type": "code",
   "execution_count": 76,
   "metadata": {},
   "outputs": [
    {
     "name": "stdin",
     "output_type": "stream",
     "text": [
      "Enter age :  15\n"
     ]
    },
    {
     "name": "stdout",
     "output_type": "stream",
     "text": [
      "Enter valid age\n"
     ]
    }
   ],
   "source": [
    "try:\n",
    "    age=int(input('Enter age : '))\n",
    "    if age>=18:\n",
    "        print('Your age is : ',age)\n",
    "    else:\n",
    "        raise ValueError('Enter valid age')\n",
    "except ValueError as err:\n",
    "    print(err)"
   ]
  },
  {
   "cell_type": "markdown",
   "metadata": {},
   "source": [
    "### 09) WAP to raise your custom Exception named InvalidUsernameError with the error message : \"Username must be between 5 and 15 characters long\":\n",
    "#### if the given name is having characters less than 5 or greater than 15.\n",
    "#### otherwise print the given username."
   ]
  },
  {
   "cell_type": "code",
   "execution_count": 96,
   "metadata": {},
   "outputs": [
    {
     "name": "stdin",
     "output_type": "stream",
     "text": [
      "Enter name :  tani\n"
     ]
    },
    {
     "name": "stdout",
     "output_type": "stream",
     "text": [
      "Username must be between 5 and 15 characters long\n"
     ]
    }
   ],
   "source": [
    "name=input('Enter name : ')\n",
    "try:\n",
    "    length=len(name)\n",
    "    if length<5 or length>15:\n",
    "        raise InvalidUsernameError('Username must be between 5 and 15 characters long')\n",
    "    else:\n",
    "        print('Your name is : ',name)\n",
    "except InvalidUsernameError as err:\n",
    "    print(err)\n"
   ]
  },
  {
   "cell_type": "markdown",
   "metadata": {},
   "source": [
    "<h3> 10) WAP to raise your custom Exception named NegativeNumberError with the error message : \"Cannot calculate the square root of a negative number\" :\n",
    " if the given number is negative.\n",
    " otherwise print the square root of the given number.</h3>"
   ]
  },
  {
   "cell_type": "code",
   "execution_count": 118,
   "metadata": {},
   "outputs": [
    {
     "name": "stdin",
     "output_type": "stream",
     "text": [
      "Enter number :  -4\n"
     ]
    },
    {
     "name": "stdout",
     "output_type": "stream",
     "text": [
      "Cannot calculate the square root of a negative number\n"
     ]
    }
   ],
   "source": [
    "num=int(input('Enter number : '))\n",
    "import math\n",
    "try:\n",
    "    if num>0:\n",
    "        print('square root of number is : ',math.sqrt(num))\n",
    "    else:\n",
    "        raise NegativeNumberError('Cannot calculate the square root of a negative number')\n",
    "except NegativeNumberError as err:\n",
    "    print(err)"
   ]
  },
  {
   "cell_type": "code",
   "execution_count": null,
   "metadata": {},
   "outputs": [],
   "source": []
  }
 ],
 "metadata": {
  "kernelspec": {
   "display_name": "Python 3 (ipykernel)",
   "language": "python",
   "name": "python3"
  },
  "language_info": {
   "codemirror_mode": {
    "name": "ipython",
    "version": 3
   },
   "file_extension": ".py",
   "mimetype": "text/x-python",
   "name": "python",
   "nbconvert_exporter": "python",
   "pygments_lexer": "ipython3",
   "version": "3.12.7"
  }
 },
 "nbformat": 4,
 "nbformat_minor": 4
}
