{
 "cells": [
  {
   "attachments": {},
   "cell_type": "markdown",
   "metadata": {},
   "source": [
    "<a href='https://www.darshan.ac.in/'> <img src='https://www.darshan.ac.in/Content/media/DU_Logo.svg' width=\"250\" height=\"300\"/></a>\n",
    "<pre>\n",
    "<center><b><h1>Python Programming - 2301CS404</b></center>\n",
    "<center><b><h1>Tanisha Bhalodiya - 23010101021</b></center>\n",
    "<center><b><h1>Lab - 11</b></center>    \n",
    "<pre>"
   ]
  },
  {
   "cell_type": "markdown",
   "metadata": {},
   "source": [
    "# Modules"
   ]
  },
  {
   "cell_type": "markdown",
   "metadata": {},
   "source": [
    "### 01) WAP to create Calculator module which defines functions like add, sub,mul and div. \n",
    "### Create another .py file that uses the functions available in Calculator module."
   ]
  },
  {
   "cell_type": "code",
   "execution_count": 23,
   "metadata": {},
   "outputs": [
    {
     "name": "stdin",
     "output_type": "stream",
     "text": [
      "Enter number 1 :  5\n",
      "Enter number 2 :  2\n",
      "Enter 1 for addition , 2 for substraction , 3 for multiplication and 4 for division :  3\n"
     ]
    },
    {
     "name": "stdout",
     "output_type": "stream",
     "text": [
      "Result of multiplication is : 10\n"
     ]
    }
   ],
   "source": [
    "import calculator\n",
    "\n",
    "\n",
    "n1=int(input('Enter number 1 : '))\n",
    "n2=int(input('Enter number 2 : '))\n",
    "\n",
    "c=int(input('Enter 1 for addition , 2 for substraction , 3 for multiplication and 4 for division : '))\n",
    "\n",
    "if c==1:\n",
    "    print(f\"Result of sum is : {calculator.add(n1, n2)}\")\n",
    "elif c==2:\n",
    "    print(f\"Result of substration is : {calculator.sub(n1, n2)}\")\n",
    "elif c==3:\n",
    "    print(f\"Result of multiplication is : {calculator.mul(n1, n2)}\")\n",
    "elif c==4:\n",
    "    print(f\"Result of division is : {calculator.div(n1, n2)}\")\n",
    "else:\n",
    "    print('INVALID CHOICE')"
   ]
  },
  {
   "cell_type": "markdown",
   "metadata": {},
   "source": [
    "### 02) WAP to pick a random character from a given String."
   ]
  },
  {
   "cell_type": "code",
   "execution_count": 27,
   "metadata": {},
   "outputs": [
    {
     "name": "stdin",
     "output_type": "stream",
     "text": [
      "Enter string :  tanisha\n"
     ]
    },
    {
     "name": "stdout",
     "output_type": "stream",
     "text": [
      "Random variable is : a\n"
     ]
    }
   ],
   "source": [
    "import random\n",
    "str1=input('Enter string : ')\n",
    "if len(str1)==0:\n",
    "    print('String is empty')\n",
    "else:\n",
    "    print(f'Random variable is : {random.choice(str1)}')"
   ]
  },
  {
   "cell_type": "markdown",
   "metadata": {},
   "source": [
    "### 03) WAP to pick a random element from a given list."
   ]
  },
  {
   "cell_type": "code",
   "execution_count": 37,
   "metadata": {},
   "outputs": [
    {
     "name": "stdout",
     "output_type": "stream",
     "text": [
      "Random element from list is : 40\n"
     ]
    }
   ],
   "source": [
    "import random\n",
    "l1=[10,20,30,40,50]\n",
    "print(f'Random element from list is : {random.choice(l1)}')"
   ]
  },
  {
   "cell_type": "markdown",
   "metadata": {},
   "source": [
    "### 04) WAP to roll a dice in such a way that every time you get the same number."
   ]
  },
  {
   "cell_type": "code",
   "execution_count": 53,
   "metadata": {},
   "outputs": [
    {
     "name": "stdout",
     "output_type": "stream",
     "text": [
      "roll a dice in such a way that every time you get the same number : 2\n"
     ]
    }
   ],
   "source": [
    "import random\n",
    "random.seed(4)\n",
    "print(f'roll a dice in such a way that every time you get the same number : {random.randint(1,6)}')"
   ]
  },
  {
   "cell_type": "markdown",
   "metadata": {},
   "source": [
    "### 05) WAP to generate 3 random integers between 100 and 999 which is divisible by 5."
   ]
  },
  {
   "cell_type": "code",
   "execution_count": 63,
   "metadata": {},
   "outputs": [
    {
     "name": "stdout",
     "output_type": "stream",
     "text": [
      "3 random integers :  [660, 960, 620]\n"
     ]
    }
   ],
   "source": [
    "import random\n",
    "l1=[]\n",
    "while len(l1)<3:\n",
    "    a=random.randint(100,999)\n",
    "    if a%5==0:\n",
    "        l1.append(a)\n",
    "print('3 random integers : ',l1)"
   ]
  },
  {
   "cell_type": "markdown",
   "metadata": {},
   "source": [
    "### 06) WAP to generate 100 random lottery tickets and pick two lucky tickets from it and announce them as Winner and Runner up respectively."
   ]
  },
  {
   "cell_type": "code",
   "execution_count": 79,
   "metadata": {},
   "outputs": [
    {
     "name": "stdout",
     "output_type": "stream",
     "text": [
      "Winner is 7030 and Runner_up is 9030\n"
     ]
    }
   ],
   "source": [
    "import random\n",
    "tick=[]\n",
    "while len(tick)<100:\n",
    "    t=random.randint(1000,9999)\n",
    "    tick.append(t)\n",
    "\n",
    "lucky=random.sample(tick,2)\n",
    "winner=lucky[0]\n",
    "runner_up=lucky[1]\n",
    "\n",
    "print(f'Winner is {winner} and Runner_up is {runner_up}')\n"
   ]
  },
  {
   "cell_type": "markdown",
   "metadata": {},
   "source": [
    "### 07) WAP to print current date and time in Python."
   ]
  },
  {
   "cell_type": "code",
   "execution_count": 89,
   "metadata": {},
   "outputs": [
    {
     "name": "stdout",
     "output_type": "stream",
     "text": [
      "Current date and time is :  2025-02-12 18:30:58.348167\n"
     ]
    }
   ],
   "source": [
    "import datetime\n",
    "d1=datetime.datetime.now()\n",
    "print('Current date and time is : ',d1)"
   ]
  },
  {
   "cell_type": "markdown",
   "metadata": {},
   "source": [
    "### 08) Subtract a week (7 days) from a given date in Python."
   ]
  },
  {
   "cell_type": "code",
   "execution_count": 93,
   "metadata": {},
   "outputs": [
    {
     "name": "stdout",
     "output_type": "stream",
     "text": [
      "today the date is :  2025-02-12\n",
      "a week before date is :  2025-02-05\n"
     ]
    }
   ],
   "source": [
    "from datetime import datetime,timedelta\n",
    "today=datetime.today()\n",
    "last_week=today-timedelta(7)\n",
    "\n",
    "print('today the date is : ',today.date())\n",
    "print('a week before date is : ',last_week.date())"
   ]
  },
  {
   "cell_type": "markdown",
   "metadata": {},
   "source": [
    "### 09) WAP to Calculate number of days between two given dates."
   ]
  },
  {
   "cell_type": "code",
   "execution_count": 97,
   "metadata": {},
   "outputs": [
    {
     "name": "stdin",
     "output_type": "stream",
     "text": [
      "Enter date 1 :  2025-02-05\n",
      "Enter date 2 :  2025-01-05\n"
     ]
    },
    {
     "name": "stdout",
     "output_type": "stream",
     "text": [
      "Number of days between two given dates :  31\n"
     ]
    }
   ],
   "source": [
    "from datetime import datetime\n",
    "d1=input('Enter date 1 : ')\n",
    "d2=input('Enter date 2 : ')\n",
    "\n",
    "# convert string into date object\n",
    "diff1=datetime.strptime(d1,'%Y-%m-%d')\n",
    "diff2=datetime.strptime(d2,'%Y-%m-%d')\n",
    "day=abs((diff1-diff2).days)\n",
    "\n",
    "print('Number of days between two given dates : ',day)"
   ]
  },
  {
   "cell_type": "markdown",
   "metadata": {},
   "source": [
    "### 10) WAP to Find the day of the week of a given date.(i.e. wether it is sunday/monday/tuesday/etc.)"
   ]
  },
  {
   "cell_type": "code",
   "execution_count": 105,
   "metadata": {},
   "outputs": [
    {
     "name": "stdin",
     "output_type": "stream",
     "text": [
      "Enter date :  2025-04-23\n"
     ]
    },
    {
     "name": "stdout",
     "output_type": "stream",
     "text": [
      "day of week in given date :  Wednesday\n"
     ]
    }
   ],
   "source": [
    "from datetime import datetime\n",
    "d1=input('Enter date : ')\n",
    "date=datetime.strptime(d1,'%Y-%m-%d')\n",
    "\n",
    "day=date.strftime('%A')\n",
    "\n",
    "print('day of week in given date : ',day)"
   ]
  },
  {
   "cell_type": "markdown",
   "metadata": {},
   "source": [
    "### 11) WAP to demonstrate the use of date time module."
   ]
  },
  {
   "cell_type": "code",
   "execution_count": 107,
   "metadata": {},
   "outputs": [
    {
     "name": "stdout",
     "output_type": "stream",
     "text": [
      "Current Date and Time: 2025-02-12 18:54:52.648309\n",
      "Today's Date: 2025-02-12\n",
      "Formatted Date and Time: 12-02-2025 18:54:52\n",
      "Day of the Week: Wednesday\n",
      "Date After 5 Days: 2025-02-17\n",
      "Date 7 Days Ago: 2025-02-05\n",
      "Difference Between Dates: 42 days\n"
     ]
    }
   ],
   "source": [
    "from datetime import datetime, timedelta\n",
    "\n",
    "# Get current date and time\n",
    "now = datetime.now()\n",
    "print(\"Current Date and Time:\", now)\n",
    "\n",
    "# Get today's date\n",
    "today = datetime.today().date()\n",
    "print(\"Today's Date:\", today)\n",
    "\n",
    "# Format the date\n",
    "formatted_date = now.strftime(\"%d-%m-%Y %H:%M:%S\")\n",
    "print(\"Formatted Date and Time:\", formatted_date)\n",
    "\n",
    "# Get day of the week\n",
    "day_of_week = now.strftime(\"%A\")\n",
    "print(\"Day of the Week:\", day_of_week)\n",
    "\n",
    "# Add 5 days to the current date\n",
    "future_date = now + timedelta(days=5)\n",
    "print(\"Date After 5 Days:\", future_date.date())\n",
    "\n",
    "# Subtract 7 days from the current date\n",
    "past_date = now - timedelta(days=7)\n",
    "print(\"Date 7 Days Ago:\", past_date.date())\n",
    "\n",
    "# Calculate difference between two dates\n",
    "date1 = datetime(2025, 1, 1)\n",
    "date2 = datetime(2025, 2, 12)\n",
    "difference = date2 - date1\n",
    "print(\"Difference Between Dates:\", difference.days, \"days\")\n"
   ]
  },
  {
   "cell_type": "markdown",
   "metadata": {},
   "source": [
    "### 12) WAP to demonstrate the use of the math module."
   ]
  },
  {
   "cell_type": "code",
   "execution_count": 109,
   "metadata": {},
   "outputs": [
    {
     "name": "stdout",
     "output_type": "stream",
     "text": [
      "Square root of 25 is: 5.0\n",
      "2 raised to the power of 3 is: 8.0\n",
      "GCD of 60 and 48 is: 12\n",
      "Factorial of 5 is: 120\n",
      "Value of Pi: 3.141592653589793\n",
      "Value of Euler's Number (e): 2.718281828459045\n",
      "Sine of 90 degrees is: 1.0\n",
      "Cosine of 90 degrees is: 6.123233995736766e-17\n",
      "Floor of 3.75 is: 3\n",
      "Ceiling of 3.75 is: 4\n"
     ]
    }
   ],
   "source": [
    "import math\n",
    "\n",
    "# Find the Square Root\n",
    "num = 25\n",
    "sqrt = math.sqrt(num)\n",
    "print(f\"Square root of {num} is: {sqrt}\")\n",
    "\n",
    "# Find the Power\n",
    "base = 2\n",
    "exp = 3\n",
    "power = math.pow(base, exp)\n",
    "print(f\"{base} raised to the power of {exp} is: {power}\")\n",
    "\n",
    "# Find the Greatest Common Divisor (GCD)\n",
    "a = 60\n",
    "b = 48\n",
    "gcd = math.gcd(a, b)\n",
    "print(f\"GCD of {a} and {b} is: {gcd}\")\n",
    "\n",
    "# Find the Factorial\n",
    "n = 5\n",
    "fact = math.factorial(n)\n",
    "print(f\"Factorial of {n} is: {fact}\")\n",
    "\n",
    "# Find the Value of Pi and Euler's Number\n",
    "print(\"Value of Pi:\", math.pi)\n",
    "print(\"Value of Euler's Number (e):\", math.e)\n",
    "\n",
    "# Use Trigonometric Functions\n",
    "angle = 90\n",
    "radians = math.radians(angle)  # Convert degrees to radians\n",
    "sin_val = math.sin(radians)\n",
    "cos_val = math.cos(radians)\n",
    "print(f\"Sine of {angle} degrees is: {sin_val}\")\n",
    "print(f\"Cosine of {angle} degrees is: {cos_val}\")\n",
    "\n",
    "# Rounding Functions\n",
    "num = 3.75\n",
    "print(f\"Floor of {num} is: {math.floor(num)}\")\n",
    "print(f\"Ceiling of {num} is: {math.ceil(num)}\")\n"
   ]
  },
  {
   "cell_type": "code",
   "execution_count": null,
   "metadata": {},
   "outputs": [],
   "source": []
  }
 ],
 "metadata": {
  "kernelspec": {
   "display_name": "Python 3 (ipykernel)",
   "language": "python",
   "name": "python3"
  },
  "language_info": {
   "codemirror_mode": {
    "name": "ipython",
    "version": 3
   },
   "file_extension": ".py",
   "mimetype": "text/x-python",
   "name": "python",
   "nbconvert_exporter": "python",
   "pygments_lexer": "ipython3",
   "version": "3.12.7"
  }
 },
 "nbformat": 4,
 "nbformat_minor": 4
}
