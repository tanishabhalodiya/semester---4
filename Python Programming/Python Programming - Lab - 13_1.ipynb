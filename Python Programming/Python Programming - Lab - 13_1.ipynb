{
 "cells": [
  {
   "cell_type": "markdown",
   "metadata": {},
   "source": [
    "<a href='https://www.darshan.ac.in/'> <img src='https://www.darshan.ac.in/Content/media/DU_Logo.svg' width=\"250\" height=\"300\"/></a>\n",
    "<pre>\n",
    "<center><b><h1>Python Programming - 2301CS404</b></center>\n",
    "<center><b><h1>Tanisha Bhalodiya - 23010101021</b></center>\n",
    "<center><b><h1>Lab - 13</b></center>    \n",
    "<pre>"
   ]
  },
  {
   "cell_type": "markdown",
   "metadata": {},
   "source": [
    "# OOP"
   ]
  },
  {
   "cell_type": "markdown",
   "metadata": {},
   "source": [
    "### 01) Write a Program to create a class by name Students, and initialize attributes like name, age, and grade while creating an object."
   ]
  },
  {
   "cell_type": "code",
   "execution_count": 5,
   "metadata": {},
   "outputs": [
    {
     "name": "stdout",
     "output_type": "stream",
     "text": [
      "Students name is : Tanisha\n",
      "Students age is : 18\n",
      "Students grade is : A\n"
     ]
    }
   ],
   "source": [
    "class Students:\n",
    "    def __init__(self, name, age, grade):\n",
    "        self.name = name\n",
    "        self.age = age\n",
    "        self.grade = grade\n",
    "    def info(self):\n",
    "        print(f'Students name is : {self.name}')\n",
    "        print(f'Students age is : {self.age}')\n",
    "        print(f'Students grade is : {self.grade}')\n",
    "\n",
    "stu1=Students('Tanisha',18,'A')\n",
    "stu1.info()"
   ]
  },
  {
   "cell_type": "markdown",
   "metadata": {},
   "source": [
    "### 02) Create a class named Bank_Account with Account_No, User_Name, Email,Account_Type and Account_Balance data members. Also create a method GetAccountDetails() and DisplayAccountDetails(). Create main method to demonstrate the Bank_Account class."
   ]
  },
  {
   "cell_type": "code",
   "execution_count": 9,
   "metadata": {},
   "outputs": [
    {
     "name": "stdout",
     "output_type": "stream",
     "text": [
      "account number is : 123456789\n",
      "User name is : Tanisha Patel\n",
      "Email is : tanipatel@gmail.com\n",
      "Account typpe is : Savings\n",
      "Account balance : 5000000.0\n"
     ]
    }
   ],
   "source": [
    "class Bank_Account:\n",
    "    def __init__(self,account_no,user_name,email,account_type,account_balance):\n",
    "        self.account_no = account_no\n",
    "        self.user_name = user_name\n",
    "        self.email = email\n",
    "        self.account_type = account_type\n",
    "        self.account_balance = account_balance\n",
    "\n",
    "    def GetAccountDetails(self):\n",
    "        self.account_no = input(\"Enter Account Number: \")\n",
    "        self.user_name = input(\"Enter User Name: \")\n",
    "        self.email = input(\"Enter Email: \")\n",
    "        self.account_type = input(\"Enter Account Type (Savings/Current): \")\n",
    "        self.account_balance = float(input(\"Enter Account Balance: \"))\n",
    "\n",
    "    def DisplayAccountDetails(self):\n",
    "        print(f'account number is : {self.account_no}')\n",
    "        print(f'User name is : {self.user_name}')\n",
    "        print(f'Email is : {self.email}')\n",
    "        print(f'Account typpe is : {self.account_type}')\n",
    "        print(f'Account balance : {self.account_balance}')\n",
    "\n",
    "def main():\n",
    "    account1 = Bank_Account(\"123456789\", \"Tanisha Patel\", \"tanipatel@gmail.com\", \"Savings\", 5000000.00)\n",
    "    account1.DisplayAccountDetails()\n",
    "\n",
    "\n",
    "main()"
   ]
  },
  {
   "cell_type": "markdown",
   "metadata": {},
   "source": [
    "### 03) WAP to create Circle class with area and perimeter function to find area and perimeter of circle."
   ]
  },
  {
   "cell_type": "code",
   "execution_count": 35,
   "metadata": {},
   "outputs": [
    {
     "name": "stdout",
     "output_type": "stream",
     "text": [
      "Area of circle is : 78.53981633974483\n",
      "Perimeter of circle is : 31.41592653589793\n"
     ]
    }
   ],
   "source": [
    "import math\n",
    "class Circle:\n",
    "    def __init__(self,r):\n",
    "        self.r=r\n",
    "\n",
    "    def CountArea(self):\n",
    "        area=math.pi * self.r * self.r\n",
    "        print(f'Area of circle is : {area}')\n",
    "\n",
    "    def CountPerimeter(self):\n",
    "        per=2*math.pi * self.r\n",
    "        print(f'Perimeter of circle is : {per}')\n",
    "\n",
    "c=Circle(5)\n",
    "c.CountArea()\n",
    "c.CountPerimeter()"
   ]
  },
  {
   "cell_type": "markdown",
   "metadata": {},
   "source": [
    "### 04) Create a class for employees that includes attributes such as name, age, salary, and methods to update and display employee information."
   ]
  },
  {
   "cell_type": "code",
   "execution_count": 47,
   "metadata": {},
   "outputs": [
    {
     "name": "stdout",
     "output_type": "stream",
     "text": [
      "Employee information is name tanisha , age is 18 and salary is 5000000\n"
     ]
    },
    {
     "name": "stdin",
     "output_type": "stream",
     "text": [
      "Enter name :  niihar\n",
      "Enter age :  15\n",
      "Enter Salary :  2669\n"
     ]
    },
    {
     "name": "stdout",
     "output_type": "stream",
     "text": [
      "Updated data is of emplyee is name niihar , age is 15 and salary is 2669\n"
     ]
    }
   ],
   "source": [
    "class Employees:\n",
    "    def __init__(self,name,age,salary):\n",
    "        self.name=name\n",
    "        self.age=age\n",
    "        self.salary=salary\n",
    "\n",
    "    def displayInformation(self):\n",
    "        print(f'Employee information is name {self.name} , age is {self.age} and salary is {self.salary}')\n",
    "\n",
    "    def updateInformation(self):\n",
    "        n=input('Enter name : ')\n",
    "        a=input('Enter age : ')\n",
    "        s=input('Enter Salary : ')\n",
    "        self.name=n\n",
    "        self.age=a\n",
    "        self.salary=s\n",
    "\n",
    "        print(f'Updated data is of emplyee is name {self.name} , age is {self.age} and salary is {self.salary}')\n",
    "\n",
    "emp=Employees('tanisha',18,5000000)\n",
    "emp.displayInformation()\n",
    "emp.updateInformation()"
   ]
  },
  {
   "cell_type": "markdown",
   "metadata": {},
   "source": [
    "### 05) Create a bank account class with methods to deposit, withdraw, and check balance."
   ]
  },
  {
   "cell_type": "code",
   "execution_count": 1,
   "metadata": {},
   "outputs": [
    {
     "name": "stdout",
     "output_type": "stream",
     "text": [
      "Balance is : 10050.0\n",
      "Balance is : 10020.0\n",
      "withdrawal amount is : 30\n",
      "Account balance is : 10020.0\n"
     ]
    }
   ],
   "source": [
    "class BankAccount:\n",
    "    def __init__(self,account,balance):\n",
    "        self.account=account\n",
    "        self.balance=balance\n",
    "\n",
    "    def deposit(self , amount):\n",
    "        if amount > 0:\n",
    "            self.balance += amount\n",
    "            print(f'Balance is : {self.balance}')\n",
    "        else:\n",
    "            print('enter posotive amount')\n",
    "\n",
    "    def withdraw(self,amount):\n",
    "        if amount <= self.balance:\n",
    "            self.balance -= amount\n",
    "            print(f'Balance is : {self.balance}')\n",
    "            print(f'withdrawal amount is : {amount}')\n",
    "        else:\n",
    "            print('You can not get amount more than you already have')\n",
    "\n",
    "    def checkBalance(self):\n",
    "        print(f'Account balance is : {self.balance}')\n",
    "\n",
    "acc = BankAccount(\"Tanisha\", 10000.0)\n",
    "acc.deposit(50)\n",
    "acc.withdraw(30)\n",
    "acc.checkBalance()"
   ]
  },
  {
   "cell_type": "markdown",
   "metadata": {},
   "source": [
    "### 06) Create a class for managing inventory that includes attributes such as item name, price, quantity, and methods to add, remove, and update items."
   ]
  },
  {
   "cell_type": "code",
   "execution_count": null,
   "metadata": {},
   "outputs": [],
   "source": [
    "class Inventory:\n",
    "    def __init__(self):\n",
    "        self.inv={}\n",
    "\n",
    "    def addInv(self,name,price,quantity):\n",
    "        self.inv[name]={}\n",
    "        self.inv[name]={'name':name,'price':price,\"quantity\":quantity}\n",
    "\n",
    "    def remove(self,name):\n",
    "        if name in self.inv.keys():\n",
    "            self.inv.pop(name)\n",
    "        else:\n",
    "            print(\"Invalid Name :\")\n",
    "\n",
    "inve=Inverntory()\n",
    "inve.addInv()\n"
   ]
  },
  {
   "cell_type": "markdown",
   "metadata": {},
   "source": [
    "### 07) Create a Class with instance attributes of your choice."
   ]
  },
  {
   "cell_type": "code",
   "execution_count": 3,
   "metadata": {},
   "outputs": [
    {
     "name": "stdout",
     "output_type": "stream",
     "text": [
      "New car added: TATA Nexon, Color: black, Price: 1000000\n",
      "Cars in inventory:\n",
      "TATA Nexon, Color: black, Price: 1000000\n"
     ]
    }
   ],
   "source": [
    "class Car:\n",
    "    cars = []  \n",
    "\n",
    "    def __init__(self, name, color, price):\n",
    "        self.name = name\n",
    "        self.color = color\n",
    "        self.price = price\n",
    "\n",
    "    def addCar(self):\n",
    "        Car.cars.append(self) \n",
    "        print(f'New car added: {self.name}, Color: {self.color}, Price: {self.price}')\n",
    "        return self  \n",
    "\n",
    "    def displayCars(self):\n",
    "        print(\"Cars in inventory:\")\n",
    "        for car in Car.cars:\n",
    "            print(f'{car.name}, Color: {car.color}, Price: {car.price}')\n",
    "\n",
    "c = Car('TATA Nexon', 'black', 1000000)\n",
    "c.addCar()  \n",
    "c.displayCars()\n"
   ]
  },
  {
   "cell_type": "markdown",
   "metadata": {},
   "source": [
    "### 08) Create one class student_kit\n",
    "#### Within the student_kit class create one class attribute principal name ( Mr ABC )\n",
    "#### Create one attendance method and take input as number of days.\n",
    "#### While creating student take input their name .\n",
    "#### Create one certificate for each student by taking input of number of days present in class."
   ]
  },
  {
   "cell_type": "code",
   "execution_count": 10,
   "metadata": {},
   "outputs": [
    {
     "name": "stdout",
     "output_type": "stream",
     "text": [
      "Certificate of Attendance::::::::::::::::::::\n",
      "This is to certify that Tanisha has attended 75 days of class.\n",
      "Principal: Mr ABC\n"
     ]
    }
   ],
   "source": [
    "class StudentKit:\n",
    "    principal_name='Mr ABC'\n",
    "\n",
    "    def __init__(self, student_name):\n",
    "        self.student_name = student_name\n",
    "        self.attendance_days = 0\n",
    "\n",
    "    def attendance(self, days):\n",
    "        self.attendance_days = days\n",
    "\n",
    "    def generate_certificate(self):\n",
    "        print(\"Certificate of Attendance::::::::::::::::::::\")\n",
    "        print(f\"This is to certify that {self.student_name} has attended {self.attendance_days} days of class.\")\n",
    "        print(f\"Principal: {StudentKit.principal_name}\")\n",
    "\n",
    "stu= StudentKit(\"Tanisha\")\n",
    "stu.attendance(75)\n",
    "stu.generate_certificate()"
   ]
  },
  {
   "cell_type": "markdown",
   "metadata": {},
   "source": [
    "### 09) Define Time class with hour and minute as data member. Also define addition method to add two time objects."
   ]
  },
  {
   "cell_type": "code",
   "execution_count": 16,
   "metadata": {},
   "outputs": [
    {
     "name": "stdout",
     "output_type": "stream",
     "text": [
      "6 : 80\n"
     ]
    }
   ],
   "source": [
    "class Time:\n",
    "    def __init__(self,hour,minute):\n",
    "        self.hour=hour\n",
    "        self.minute=minute\n",
    "\n",
    "    def addTime(self, other):\n",
    "        #count minute first\n",
    "        mins = self.minute + other.minute\n",
    "        #count hours\n",
    "        hours = mins // 60\n",
    "        new_mins = mins % 60\n",
    "        new_hours = self.hour + other.hour + hours\n",
    "        return Time(new_hours, mins)\n",
    "\n",
    "    def display_time(self):\n",
    "        print(f\"{self.hour} : {self.minute}\")\n",
    "\n",
    "t1=Time(2,30)\n",
    "t2=Time(3,50)\n",
    "\n",
    "res=t1.addTime(t2)\n",
    "res.display_time()\n",
    "\n"
   ]
  },
  {
   "cell_type": "code",
   "execution_count": null,
   "metadata": {},
   "outputs": [],
   "source": []
  }
 ],
 "metadata": {
  "kernelspec": {
   "display_name": "Python 3 (ipykernel)",
   "language": "python",
   "name": "python3"
  },
  "language_info": {
   "codemirror_mode": {
    "name": "ipython",
    "version": 3
   },
   "file_extension": ".py",
   "mimetype": "text/x-python",
   "name": "python",
   "nbconvert_exporter": "python",
   "pygments_lexer": "ipython3",
   "version": "3.12.7"
  }
 },
 "nbformat": 4,
 "nbformat_minor": 4
}
