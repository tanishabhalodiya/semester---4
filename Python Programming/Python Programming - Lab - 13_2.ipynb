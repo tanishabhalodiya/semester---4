{
 "cells": [
  {
   "cell_type": "markdown",
   "metadata": {},
   "source": [
    "<a href='https://www.darshan.ac.in/'> <img src='https://www.darshan.ac.in/Content/media/DU_Logo.svg' width=\"250\" height=\"300\"/></a>\n",
    "<pre>\n",
    "<center><b><h1>Python Programming - 2301CS404</b></center>\n",
    "<center><b><h1>Tanisha Bhalodiya - 23010101021</b></center>\n",
    "<center><b><h1>Lab - 13</b></center>    \n",
    "<pre>"
   ]
  },
  {
   "cell_type": "markdown",
   "metadata": {},
   "source": [
    "## Continued.."
   ]
  },
  {
   "cell_type": "markdown",
   "metadata": {},
   "source": [
    "### 10) Calculate area of a ractangle using object as an argument to a method."
   ]
  },
  {
   "cell_type": "code",
   "execution_count": 1,
   "metadata": {},
   "outputs": [
    {
     "name": "stdout",
     "output_type": "stream",
     "text": [
      "Area of rectangle is : 50\n"
     ]
    }
   ],
   "source": [
    "class Rectangle:\n",
    "    def __init__(self,l,w):\n",
    "        self.l=l\n",
    "        self.w=w\n",
    "\n",
    "    def area(self):\n",
    "        print(f'Area of rectangle is : {self.l*self.w}')\n",
    "\n",
    "r=Rectangle(5,10)\n",
    "r.area()"
   ]
  },
  {
   "cell_type": "markdown",
   "metadata": {},
   "source": [
    "### 11) Calculate the area of a square. \n",
    "### Include a Constructor, a method to calculate area named area() and a method named output() that prints the output and is invoked by area()."
   ]
  },
  {
   "cell_type": "code",
   "execution_count": 5,
   "metadata": {},
   "outputs": [
    {
     "name": "stdout",
     "output_type": "stream",
     "text": [
      "Area of the square : 25\n"
     ]
    }
   ],
   "source": [
    "class Square:\n",
    "    def __init__(self,l):\n",
    "        self.l=l\n",
    "\n",
    "    def area(self):\n",
    "        ar=self.l**2\n",
    "        self.output(ar)\n",
    "\n",
    "    def output(self,ar):\n",
    "        print(f'Area of the square : {ar}')\n",
    "\n",
    "\n",
    "s=Square(5)\n",
    "s.area()\n",
    "\n",
    "    "
   ]
  },
  {
   "cell_type": "markdown",
   "metadata": {},
   "source": [
    "### 12) Calculate the area of a rectangle. \n",
    "### Include a Constructor, a method to calculate area named area() and a method named output() that prints the output and is invoked by area().\n",
    "### Also define a class method that compares the two sides of reactangle. An object is instantiated only if the two sides are different; otherwise a message should be displayed : THIS IS SQUARE."
   ]
  },
  {
   "cell_type": "code",
   "execution_count": 17,
   "metadata": {},
   "outputs": [
    {
     "name": "stdout",
     "output_type": "stream",
     "text": [
      "Area of the rectangle : 50\n",
      "THIS IS SQUARE\n"
     ]
    }
   ],
   "source": [
    "class Rectangle:\n",
    "    def __init__(self,l,w):\n",
    "        if self.com(l,w):\n",
    "            self.l=l\n",
    "            self.w=w\n",
    "        else:\n",
    "            print('THIS IS SQUARE')\n",
    "            self.l=None\n",
    "            self.w=None\n",
    "\n",
    "    def area(self):\n",
    "        ar=self.l*self.w\n",
    "        self.output(ar)\n",
    "\n",
    "    def output(self,ar):\n",
    "        print(f'Area of the rectangle : {ar}')\n",
    "\n",
    "    def com(self,l,w):\n",
    "        if l==w:\n",
    "            return False\n",
    "        else:\n",
    "            return True\n",
    "\n",
    "\n",
    "rec1=Rectangle(5,10)\n",
    "rec1.area()\n",
    "\n",
    "rec2=Rectangle(5,5)"
   ]
  },
  {
   "cell_type": "markdown",
   "metadata": {},
   "source": [
    "### 13) Define a class Square having a private attribute \"side\". \n",
    "### Implement get_side and set_side methods to accees the private attribute from outside of the class."
   ]
  },
  {
   "cell_type": "code",
   "execution_count": 21,
   "metadata": {},
   "outputs": [
    {
     "name": "stdout",
     "output_type": "stream",
     "text": [
      "initial length is : 5\n",
      "updated side is : 10\n",
      "Side length must be positive!\n"
     ]
    }
   ],
   "source": [
    "class Square:\n",
    "    def __init__(self,l):\n",
    "        self.__l=l\n",
    "\n",
    "    def get_side(self):\n",
    "        return self.__l\n",
    "\n",
    "    def set_side(self,new_side):\n",
    "        if new_side > 0:\n",
    "            self.__l=new_side\n",
    "        else:\n",
    "            print('Side length must be positive!')\n",
    "\n",
    "squ=Square(5)\n",
    "print(f'initial length is : {squ.get_side()}')\n",
    "squ.set_side(10)\n",
    "print(f'updated side is : {squ.get_side()}')\n",
    "squ.set_side(-1)"
   ]
  },
  {
   "cell_type": "markdown",
   "metadata": {},
   "source": [
    "### 14) Create a class Profit that has a method named getProfit that accepts profit from the user.\n",
    "### Create a class Loss that has a method named getLoss that accepts loss from the user.\n",
    "### Create a class BalanceSheet that inherits from both classes Profit and Loss and calculates the balanace. It has two methods getBalance() and printBalance()."
   ]
  },
  {
   "cell_type": "code",
   "execution_count": 30,
   "metadata": {},
   "outputs": [
    {
     "name": "stdin",
     "output_type": "stream",
     "text": [
      "Enter profit :  10000\n",
      "Enter loss :  20\n"
     ]
    },
    {
     "name": "stdout",
     "output_type": "stream",
     "text": [
      "Balance is : 9980\n"
     ]
    }
   ],
   "source": [
    "class Profit:\n",
    "    def __init__(self):\n",
    "        self.profit=0\n",
    "\n",
    "    def getProfit(self):\n",
    "        self.profit=int(input('Enter profit : '))\n",
    "\n",
    "class Loss:\n",
    "    def __init__(self):\n",
    "        self.loss=0\n",
    "\n",
    "    def getLoss(self):\n",
    "        self.loss=int(input('Enter loss : '))\n",
    "\n",
    "class BalanceSheet(Profit,Loss):\n",
    "    def __init__(self):\n",
    "        super().__init__()\n",
    "        Profit.__init__(self)\n",
    "        Loss.__init__(self)\n",
    "\n",
    "    def getBalance(self):\n",
    "        return self.profit - self.loss\n",
    "\n",
    "    def printBalance(self):\n",
    "        print(f'Balance is : {self.getBalance()}')\n",
    "\n",
    "\n",
    "b1=BalanceSheet()\n",
    "b1.getProfit()\n",
    "b1.getLoss()\n",
    "b1.printBalance()\n"
   ]
  },
  {
   "attachments": {},
   "cell_type": "markdown",
   "metadata": {},
   "source": [
    "<h3> 15) WAP to demonstrate all types of inheritance.</h3>\n"
   ]
  },
  {
   "cell_type": "code",
   "execution_count": 38,
   "metadata": {},
   "outputs": [
    {
     "name": "stdout",
     "output_type": "stream",
     "text": [
      "Animals make sound\n",
      "Dogs bark\n",
      "Animals make sound\n",
      "Can fly.\n",
      "Bird chirps.\n",
      "Animals make sound\n",
      "Most mammals have fur.\n",
      "Humans can speak.\n",
      "Animals make sound\n",
      "Cat meows.\n",
      "Animals make sound\n",
      "Most mammals have fur.\n",
      "Can fly.\n",
      "Bat hunts at night.\n"
     ]
    }
   ],
   "source": [
    "# 1 : SINGLE INHERITANCE\n",
    "class Animal:\n",
    "    def sound(self):\n",
    "        print('Animals make sound')\n",
    "\n",
    "class Dog(Animal):\n",
    "    def bark(self):\n",
    "        print('Dogs bark')\n",
    "\n",
    "d=Dog()\n",
    "d.sound()\n",
    "d.bark()\n",
    "\n",
    "# 2 : MULTIPLE INHERITANCE\n",
    "class Flyable:\n",
    "    def fly(self):\n",
    "        print(\"Can fly.\")\n",
    "\n",
    "class Bird(Animal, Flyable): \n",
    "    def chirp(self):\n",
    "        print(\"Bird chirps.\")\n",
    "\n",
    "bird = Bird()\n",
    "bird.sound()  \n",
    "bird.fly()\n",
    "bird.chirp()\n",
    "\n",
    "# 3. Multilevel Inheritance (Grandparent → Parent → Child)\n",
    "class Mammal(Animal):  # Animal → Mammal → Human\n",
    "    def has_fur(self):\n",
    "        print(\"Most mammals have fur.\")\n",
    "\n",
    "class Human(Mammal):\n",
    "    def speak(self):\n",
    "        print(\"Humans can speak.\")\n",
    "\n",
    "human = Human()\n",
    "human.sound()  \n",
    "human.has_fur()\n",
    "human.speak()\n",
    "\n",
    "\n",
    "# 4. Hierarchical Inheritance (One parent, multiple children)\n",
    "class Cat(Animal): \n",
    "    def meow(self):\n",
    "        print(\"Cat meows.\")\n",
    "\n",
    "cat = Cat()\n",
    "cat.sound()  \n",
    "cat.meow()\n",
    "\n",
    "\n",
    "# 5. Hybrid Inheritance (Combination of Multiple and Multilevel)\n",
    "class Bat(Mammal, Flyable): \n",
    "    def night_hunt(self):\n",
    "        print(\"Bat hunts at night.\")\n",
    "\n",
    "bat = Bat()\n",
    "bat.sound()    \n",
    "bat.has_fur()   \n",
    "bat.fly()       \n",
    "bat.night_hunt()"
   ]
  },
  {
   "cell_type": "markdown",
   "metadata": {},
   "source": [
    "### 16) Create a Person class with a constructor that takes two arguments name and age. \n",
    "### Create a child class Employee that inherits from Person and adds a new attribute salary. \n",
    "### Override the __init__ method in Employee to call the parent class's __init__ method using the super() and then initialize the salary attribute."
   ]
  },
  {
   "cell_type": "code",
   "execution_count": 42,
   "metadata": {},
   "outputs": [
    {
     "name": "stdout",
     "output_type": "stream",
     "text": [
      "Person's name is Tanisha and age is 19\n",
      "and salary is 100000\n"
     ]
    }
   ],
   "source": [
    "class Person:\n",
    "    def __init__(self,name,age):\n",
    "        self.name=name\n",
    "        self.age=age\n",
    "\n",
    "    def display(self):\n",
    "        print(f'Person\\'s name is {self.name} and age is {self.age}')\n",
    "\n",
    "class Employee(Person):\n",
    "    def __init__(self,name,age,salary):\n",
    "        super().__init__(name,age)\n",
    "        self.salary=salary\n",
    "\n",
    "    def display(self):\n",
    "        super().display()\n",
    "        print(f'and salary is {self.salary}')\n",
    "\n",
    "e1=Employee('Tanisha',19,100000)\n",
    "e1.display()\n",
    "\n",
    "    "
   ]
  },
  {
   "cell_type": "markdown",
   "metadata": {},
   "source": [
    "### 17) Create a Shape class with a draw method that is not implemented. \n",
    "### Create three child classes Rectangle, Circle, and Triangle that implement the draw method with their respective drawing behaviors. \n",
    "### Create a list of Shape objects that includes one instance of each child class, and then iterate through the list and call the draw method on each object."
   ]
  },
  {
   "cell_type": "code",
   "execution_count": 50,
   "metadata": {},
   "outputs": [
    {
     "name": "stdout",
     "output_type": "stream",
     "text": [
      "Shape is Rectangle\n",
      "Shape is Circle\n",
      "Shape is Triangle\n"
     ]
    }
   ],
   "source": [
    "class Shape:\n",
    "    def draw(self):\n",
    "        pass\n",
    "\n",
    "class Rectangle(Shape):\n",
    "    def draw(self):\n",
    "        print('Shape is Rectangle')\n",
    "\n",
    "\n",
    "class Circle(Shape):\n",
    "    def draw(self):\n",
    "        print('Shape is Circle')\n",
    "\n",
    "\n",
    "\n",
    "class Triangle(Shape):\n",
    "    def draw(self):\n",
    "        print('Shape is Triangle')\n",
    "\n",
    "r1=Rectangle()\n",
    "r1.draw()\n",
    "c1=Circle()\n",
    "c1.draw()\n",
    "t1=Triangle()\n",
    "t1.draw()"
   ]
  },
  {
   "cell_type": "code",
   "execution_count": null,
   "metadata": {},
   "outputs": [],
   "source": []
  }
 ],
 "metadata": {
  "kernelspec": {
   "display_name": "Python 3 (ipykernel)",
   "language": "python",
   "name": "python3"
  },
  "language_info": {
   "codemirror_mode": {
    "name": "ipython",
    "version": 3
   },
   "file_extension": ".py",
   "mimetype": "text/x-python",
   "name": "python",
   "nbconvert_exporter": "python",
   "pygments_lexer": "ipython3",
   "version": "3.12.7"
  }
 },
 "nbformat": 4,
 "nbformat_minor": 4
}
