{
 "cells": [
  {
   "cell_type": "markdown",
   "metadata": {},
   "source": [
    "\n",
    "<a href='https://www.darshan.ac.in/'> <img src='https://www.darshan.ac.in/Content/media/DU_Logo.svg' width=\"250\" height=\"300\"/></a>\n",
    "<pre>\n",
    "<center><b><h1>Python Programming - 2301CS404</b></center>\n",
    "<center><h2>Tanisha Bhalodiya - 23010101021</h2></center>\n",
    "<center><b><h1>Lab - 2</b></center>    \n",
    "<pre>"
   ]
  },
  {
   "cell_type": "markdown",
   "metadata": {},
   "source": [
    "# if..else.."
   ]
  },
  {
   "cell_type": "markdown",
   "metadata": {},
   "source": [
    "### 01) WAP to check whether the given number is positive or negative."
   ]
  },
  {
   "cell_type": "code",
   "execution_count": 5,
   "metadata": {},
   "outputs": [
    {
     "name": "stdout",
     "output_type": "stream",
     "text": [
      "Enter number :  -3\n"
     ]
    },
    {
     "name": "stdout",
     "output_type": "stream",
     "text": [
      "negative\n"
     ]
    }
   ],
   "source": [
    "n1=int(input(\"Enter number : \"))\n",
    "if(n1>0):\n",
    "    print(\"Positive\")\n",
    "else:\n",
    "    print(\"negative\")\n",
    "    "
   ]
  },
  {
   "cell_type": "markdown",
   "metadata": {},
   "source": [
    "### 02) WAP to check whether the given number is odd or even."
   ]
  },
  {
   "cell_type": "code",
   "execution_count": 9,
   "metadata": {},
   "outputs": [
    {
     "name": "stdout",
     "output_type": "stream",
     "text": [
      "Enter number :  3\n"
     ]
    },
    {
     "name": "stdout",
     "output_type": "stream",
     "text": [
      "number is odd\n"
     ]
    }
   ],
   "source": [
    "n2=int(input(\"Enter number : \"))\n",
    "if(n2%2==0):\n",
    "    print(\"number is Even\")\n",
    "else:\n",
    "    print(\"number is odd\")"
   ]
  },
  {
   "cell_type": "markdown",
   "metadata": {},
   "source": [
    "### 03) WAP to find out largest number from given two numbers using simple if and ternary operator."
   ]
  },
  {
   "cell_type": "code",
   "execution_count": 19,
   "metadata": {},
   "outputs": [
    {
     "name": "stdout",
     "output_type": "stream",
     "text": [
      "Enter number a :  25\n",
      "Enter number b :  20\n"
     ]
    },
    {
     "name": "stdout",
     "output_type": "stream",
     "text": [
      "a is largest\n",
      "A is bigger\n"
     ]
    }
   ],
   "source": [
    "a=int(input(\"Enter number a : \"))\n",
    "b=int(input(\"Enter number b : \"))\n",
    "if(a>b):\n",
    "    print(\"a is largest\")\n",
    "else:\n",
    "    print(\"b is largest\")\n",
    "\n",
    "max=print(\"A is bigger\") if a>b else print(\"B is bigger\")"
   ]
  },
  {
   "cell_type": "markdown",
   "metadata": {},
   "source": [
    "### 04) WAP to find out largest number from given three numbers."
   ]
  },
  {
   "cell_type": "code",
   "execution_count": 29,
   "metadata": {},
   "outputs": [
    {
     "name": "stdout",
     "output_type": "stream",
     "text": [
      "Enter number x :  1\n",
      "Enter number y :  2\n",
      "Enter number z :  3\n"
     ]
    },
    {
     "name": "stdout",
     "output_type": "stream",
     "text": [
      "Z is largest\n",
      "Z is biggest\n"
     ]
    }
   ],
   "source": [
    "x=int(input(\"Enter number x : \"))\n",
    "y=int(input(\"Enter number y : \"))\n",
    "z=int(input(\"Enter number z : \"))\n",
    "if(x>y):\n",
    "    if(x>z):\n",
    "        print(\"X is largest\")\n",
    "    else:\n",
    "        print(\"Z is largest\")\n",
    "else:\n",
    "    if(y>z):\n",
    "        print(\"Y is largest\")\n",
    "    else:\n",
    "        print(\"Z is largest\")\n",
    "        \n",
    "max = (print(\"X is biggest\") if x> z else print(\"Z is biggest\")) if x>y else (print(\"Y is biggest\") if y>z else print(\"Z is biggest\"))"
   ]
  },
  {
   "cell_type": "markdown",
   "metadata": {},
   "source": [
    "### 05) WAP to check whether the given year is leap year or not.\n",
    "[If a year can be divisible by 4 but not divisible by 100 then it is leap year but if it is divisible by 400 then it is leap year]"
   ]
  },
  {
   "cell_type": "code",
   "execution_count": 39,
   "metadata": {},
   "outputs": [
    {
     "name": "stdout",
     "output_type": "stream",
     "text": [
      "Enter year :  2024\n"
     ]
    },
    {
     "name": "stdout",
     "output_type": "stream",
     "text": [
      "Given year is not a leap year\n"
     ]
    }
   ],
   "source": [
    "year=int(input(\"Enter year : \"))\n",
    "if((year%4==0) and (year%100!=0)):\n",
    "    print(\"Given year is not a leap year\")\n",
    "elif(year%400==0):\n",
    "    print(\"Given year is leap year\")\n",
    "else:\n",
    "    print(\"not a leap year\")"
   ]
  },
  {
   "cell_type": "markdown",
   "metadata": {},
   "source": [
    "### 06) WAP in python to display the name of the day according to the number given by the user."
   ]
  },
  {
   "cell_type": "code",
   "execution_count": 51,
   "metadata": {},
   "outputs": [
    {
     "name": "stdout",
     "output_type": "stream",
     "text": [
      "Enter day in number :  7\n"
     ]
    },
    {
     "name": "stdout",
     "output_type": "stream",
     "text": [
      "Sunday\n"
     ]
    }
   ],
   "source": [
    "day=int(input(\"Enter day in number : \"))\n",
    "match day:\n",
    "    case 1:print('Monday'),\n",
    "    case 2:print('TuesDay'),\n",
    "    case 3:print('Wednesday'),\n",
    "    case 4:print('Thursday'),\n",
    "    case 5:print('Friday'),\n",
    "    case 6:print('Saturday'),\n",
    "    case 7:print('Sunday')\n",
    "\n",
    "\n"
   ]
  },
  {
   "cell_type": "markdown",
   "metadata": {},
   "source": [
    "### 07) WAP to implement simple calculator which performs (add,sub,mul,div) of two no. based on user input."
   ]
  },
  {
   "cell_type": "code",
   "execution_count": 71,
   "metadata": {},
   "outputs": [
    {
     "name": "stdout",
     "output_type": "stream",
     "text": [
      "Enter number 1 :  3\n",
      "Enter number 2 :  2\n",
      "Enter operation add,sub,mul and div :  +\n"
     ]
    },
    {
     "name": "stdout",
     "output_type": "stream",
     "text": [
      "Addition is :  5\n"
     ]
    }
   ],
   "source": [
    "num1=int(input(\"Enter number 1 : \"))\n",
    "num2=int(input(\"Enter number 2 : \"))\n",
    "\n",
    "op=input(\"Enter operation add,sub,mul and div : \")\n",
    "match op:\n",
    "    case '+':\n",
    "        print(\"Addition is : \",int(num1+num2)),\n",
    "    case '-':\n",
    "        print(\"Subtraction is : \",int(num1-num2)),\n",
    "    case '*':\n",
    "        print(\"Multiplication is : \",num1*num2),\n",
    "    case '/':\n",
    "        print(\"Devision is : \",num1/num2),\n",
    "    "
   ]
  },
  {
   "cell_type": "markdown",
   "metadata": {},
   "source": [
    "### 08) WAP to read marks of five subjects. Calculate percentage and print class accordingly. \n",
    "Fail below 35 </br>\n",
    "Pass Class between 35 to 45 </br>\n",
    "Second Class</br>\n",
    "between 45 to 60</br>\n",
    "First Class between 60 to 70</br> \n",
    "Distinction if more than 70"
   ]
  },
  {
   "cell_type": "code",
   "execution_count": 73,
   "metadata": {},
   "outputs": [
    {
     "name": "stdout",
     "output_type": "stream",
     "text": [
      "Enter mark od subject 1 :  50\n",
      "Enter mark od subject 2 :  60\n",
      "Enter mark od subject 3 :  70\n",
      "Enter mark od subject 4 :  80\n",
      "Enter mark od subject 5 :  90\n"
     ]
    },
    {
     "name": "stdout",
     "output_type": "stream",
     "text": [
      "Distinction calss\n"
     ]
    }
   ],
   "source": [
    "s1=int(input(\"Enter mark od subject 1 : \"))\n",
    "s2=int(input(\"Enter mark od subject 2 : \"))\n",
    "s3=int(input(\"Enter mark od subject 3 : \"))\n",
    "s4=int(input(\"Enter mark od subject 4 : \"))\n",
    "s5=int(input(\"Enter mark od subject 5 : \"))\n",
    "\n",
    "per=((s1+s2+s3+s4+s5)/500)*100\n",
    "if(per<35):\n",
    "    print(\"Fail\")\n",
    "elif(per<45 and per>35):\n",
    "    print(\"Pass calss\")\n",
    "elif(per>=45 and per<60):\n",
    "    print(\"Second calss\")\n",
    "elif(per>=60 and per<70):\n",
    "    print(\"First calss\")\n",
    "elif(per>=70):\n",
    "    print(\"Distinction calss\")"
   ]
  },
  {
   "cell_type": "markdown",
   "metadata": {},
   "source": [
    "### 09) Three sides of a triangle are entered through the keyboard, WAP to check whether the triangle is isosceles, equilateral, scalene or right-angled triangle."
   ]
  },
  {
   "cell_type": "code",
   "execution_count": 13,
   "metadata": {},
   "outputs": [
    {
     "name": "stdout",
     "output_type": "stream",
     "text": [
      "Enter side 1 :  3\n",
      "Enter side 2 :  4\n",
      "Enter side 3 :  7\n"
     ]
    },
    {
     "name": "stdout",
     "output_type": "stream",
     "text": [
      "This Triangle is not possible\n"
     ]
    }
   ],
   "source": [
    "l1=float(input(\"Enter side 1 : \"))\n",
    "l2=float(input(\"Enter side 2 : \"))\n",
    "l3=float(input(\"Enter side 3 : \"))\n",
    "\n",
    "if((l1+l2>l3) and (l2+l3 >l1) and (l3+l1>l2)):\n",
    "    if(l1==l2==l3):\n",
    "        print(\"Equilateral trianle\")\n",
    "    elif(l1==l2 or l1==l3):\n",
    "        print(\"isosceles triangle\")\n",
    "    elif((l1*l1 == l2*l2 + l3*l3) or (l2*l2 == l1*l1 + l3*l3) or (l3*l3 == l1*l1 + l2*l2)):\n",
    "        print(\"Right-angled triangle\")\n",
    "    else:\n",
    "        print(\"scalene triangle\")\n",
    "else:\n",
    "    print('This Triangle is not possible')"
   ]
  },
  {
   "cell_type": "code",
   "execution_count": null,
   "metadata": {},
   "outputs": [],
   "source": []
  },
  {
   "cell_type": "markdown",
   "metadata": {},
   "source": [
    "### 10) WAP to find the second largest number among three user input numbers."
   ]
  },
  {
   "cell_type": "code",
   "execution_count": 5,
   "metadata": {},
   "outputs": [
    {
     "name": "stdout",
     "output_type": "stream",
     "text": [
      "Enter number x1 :  2\n",
      "Enter number y1 :  3\n",
      "Enter number z1 :  4\n"
     ]
    },
    {
     "name": "stdout",
     "output_type": "stream",
     "text": [
      "Second largest is :  3\n",
      "=======================================\n",
      "y1 is second largest\n"
     ]
    }
   ],
   "source": [
    "x1=int(input(\"Enter number x1 : \"))\n",
    "y1=int(input(\"Enter number y1 : \"))\n",
    "z1=int(input(\"Enter number z1 : \"))\n",
    "arr=[x1,y1,z1]\n",
    "arr.sort()\n",
    "print(\"Second largest is : \",arr[1])\n",
    "print(\"=======================================\")\n",
    "if(x1>y1 and x1>z1):\n",
    "    if(y1>z1):\n",
    "        print(\"Y1 is second largest\")\n",
    "    else:\n",
    "        print(\"Z1 is second largest\")\n",
    "elif(y1>x1 and y1>z1):\n",
    "    if(x1>z1):\n",
    "        print(\"X1 is second largest\")\n",
    "    else:\n",
    "        print(\"Z1 is second largest\")\n",
    "else:\n",
    "    if(x1>y1):\n",
    "        print(\"x1 is second largest\")\n",
    "    else:\n",
    "        print(\"y1 is second largest\")"
   ]
  },
  {
   "cell_type": "markdown",
   "metadata": {},
   "source": [
    "<h3>11) WAP to calculate electricity bill based on following criteria. Which takes the unit from the user.</h3> \n",
    "a. First 1 to 50 units – Rs. 2.60/unit</br>\n",
    "b. Next 50 to 100 units – Rs. 3.25/unit</br>\n",
    "c. Next 100 to 200 units – Rs. 5.26/unit</br>\n",
    "d. above 200 units – Rs. 8.45/unit"
   ]
  },
  {
   "cell_type": "code",
   "execution_count": 1,
   "metadata": {},
   "outputs": [
    {
     "name": "stdin",
     "output_type": "stream",
     "text": [
      "Enter units :  120\n"
     ]
    },
    {
     "name": "stdout",
     "output_type": "stream",
     "text": [
      "Bill is : 397.7\n"
     ]
    }
   ],
   "source": [
    "units=float(input(\"Enter units : \"))\n",
    "if units <=50:\n",
    "    bill =units *2.60\n",
    "elif units <=100:\n",
    "    bill =(50*2.60)+((units -50)*3.25)\n",
    "elif units <=200:\n",
    "    bill =(50*2.60)+(50*3.25)+((units -100)*5.26)\n",
    "else:\n",
    "    bill =(50*2.60)+(50*3.25)+(100*5.26)+((units -200)*8.45)\n",
    "print(f'Bill is : {bill}')"
   ]
  },
  {
   "cell_type": "code",
   "execution_count": null,
   "metadata": {},
   "outputs": [],
   "source": []
  }
 ],
 "metadata": {
  "kernelspec": {
   "display_name": "Python 3 (ipykernel)",
   "language": "python",
   "name": "python3"
  },
  "language_info": {
   "codemirror_mode": {
    "name": "ipython",
    "version": 3
   },
   "file_extension": ".py",
   "mimetype": "text/x-python",
   "name": "python",
   "nbconvert_exporter": "python",
   "pygments_lexer": "ipython3",
   "version": "3.12.7"
  }
 },
 "nbformat": 4,
 "nbformat_minor": 4
}
