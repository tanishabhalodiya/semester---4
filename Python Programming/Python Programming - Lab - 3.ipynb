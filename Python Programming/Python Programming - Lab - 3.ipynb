{
 "cells": [
  {
   "cell_type": "markdown",
   "metadata": {},
   "source": [
    "\n",
    "<a href='https://www.darshan.ac.in/'> <img src='https://www.darshan.ac.in/Content/media/DU_Logo.svg' width=\"250\" height=\"300\"/></a>\n",
    "<pre>\n",
    "<center><b><h1>Python Programming - 2301CS404</b></center>\n",
    "<center><h2>Tanisha Bhalodiya - 23010101021</h2></center>\n",
    "<center><b><h1>Lab - 3</b></center>    \n",
    "<pre>"
   ]
  },
  {
   "cell_type": "markdown",
   "metadata": {},
   "source": [
    "# for and while loop"
   ]
  },
  {
   "cell_type": "markdown",
   "metadata": {},
   "source": [
    "### 01) WAP to print 1 to 10."
   ]
  },
  {
   "cell_type": "code",
   "execution_count": 3,
   "metadata": {},
   "outputs": [
    {
     "name": "stdout",
     "output_type": "stream",
     "text": [
      "1\n",
      "2\n",
      "3\n",
      "4\n",
      "5\n",
      "6\n",
      "7\n",
      "8\n",
      "9\n",
      "10\n"
     ]
    }
   ],
   "source": [
    "for i in range(1,11):\n",
    "    print(i)"
   ]
  },
  {
   "cell_type": "markdown",
   "metadata": {},
   "source": [
    "### 02) WAP to print 1 to n."
   ]
  },
  {
   "cell_type": "code",
   "execution_count": 7,
   "metadata": {},
   "outputs": [
    {
     "name": "stdout",
     "output_type": "stream",
     "text": [
      "Enter number n2 :  2\n"
     ]
    },
    {
     "name": "stdout",
     "output_type": "stream",
     "text": [
      "1\n",
      "2\n"
     ]
    }
   ],
   "source": [
    "n2=int(input(\"Enter number n2 : \"))\n",
    "for i in range(1,n2+1):\n",
    "    print(i)"
   ]
  },
  {
   "cell_type": "markdown",
   "metadata": {},
   "source": [
    "### 03) WAP to print odd numbers between 1 to n."
   ]
  },
  {
   "cell_type": "code",
   "execution_count": 25,
   "metadata": {},
   "outputs": [
    {
     "name": "stdout",
     "output_type": "stream",
     "text": [
      "Enter number n3 :  6\n"
     ]
    },
    {
     "name": "stdout",
     "output_type": "stream",
     "text": [
      "1\n",
      "3\n",
      "5\n"
     ]
    }
   ],
   "source": [
    "n3=int(input(\"Enter number n3 : \"))\n",
    "for i in range(1,n3+1):\n",
    "    if(i % 2 !=0):\n",
    "        print(i)"
   ]
  },
  {
   "cell_type": "markdown",
   "metadata": {},
   "source": [
    "### 04) WAP to print numbers between two given numbers which is divisible by 2 but not divisible by 3."
   ]
  },
  {
   "cell_type": "code",
   "execution_count": 27,
   "metadata": {},
   "outputs": [
    {
     "name": "stdout",
     "output_type": "stream",
     "text": [
      "Enter number n4 :  6\n"
     ]
    },
    {
     "name": "stdout",
     "output_type": "stream",
     "text": [
      "2\n",
      "4\n"
     ]
    }
   ],
   "source": [
    "n4=int(input(\"Enter number n4 : \"))\n",
    "for i in range(1,n4+1):\n",
    "    if(i % 2 ==0 and i%3 !=0):\n",
    "        print(i)"
   ]
  },
  {
   "cell_type": "markdown",
   "metadata": {},
   "source": [
    "### 05) WAP to print sum of 1 to n numbers."
   ]
  },
  {
   "cell_type": "code",
   "execution_count": 37,
   "metadata": {},
   "outputs": [
    {
     "name": "stdout",
     "output_type": "stream",
     "text": [
      "Enter number n5 :  5\n"
     ]
    },
    {
     "name": "stdout",
     "output_type": "stream",
     "text": [
      "sum os 1 to n is :  15\n"
     ]
    }
   ],
   "source": [
    "n5=int(input(\"Enter number n5 : \"))\n",
    "sum=0\n",
    "for i in range(1,n5+1):\n",
    "    sum=sum+i\n",
    "print(\"sum os 1 to n is : \",sum)"
   ]
  },
  {
   "cell_type": "markdown",
   "metadata": {},
   "source": [
    "<h3>06) WAP to print sum of series 1 + 4 + 9 + 16 + 25 + 36 + ...n.</h3> "
   ]
  },
  {
   "cell_type": "code",
   "execution_count": 4,
   "metadata": {},
   "outputs": [
    {
     "name": "stdout",
     "output_type": "stream",
     "text": [
      "Enter number n6 :  5\n"
     ]
    },
    {
     "name": "stdout",
     "output_type": "stream",
     "text": [
      "1  +  4  +  9  +  16  +  25  +  sum is :  55\n"
     ]
    }
   ],
   "source": [
    "n6=int(input(\"Enter number n6 : \"))\n",
    "sum2=0\n",
    "for i in range(1,n6+1):\n",
    "    print(i*i,\" + \",end=\" \") \n",
    "    sum2=sum2+(i*i)\n",
    "print(\"sum is : \",sum2)"
   ]
  },
  {
   "cell_type": "markdown",
   "metadata": {},
   "source": [
    "### 07) WAP to print sum of series 1 – 2 + 3 – 4 + 5 – 6 + 7 ... n."
   ]
  },
  {
   "cell_type": "code",
   "execution_count": 71,
   "metadata": {},
   "outputs": [
    {
     "name": "stdout",
     "output_type": "stream",
     "text": [
      "Enter number n7 :  4\n"
     ]
    },
    {
     "name": "stdout",
     "output_type": "stream",
     "text": [
      "sum is :  -2\n"
     ]
    }
   ],
   "source": [
    "n7=int(input(\"Enter number n7 : \"))\n",
    "sum3=0\n",
    "count=0\n",
    "for i in range(1,n7+1):\n",
    "    if(count==0):\n",
    "        sum3=sum3+i\n",
    "        count=1\n",
    "    else:\n",
    "        sum3=sum3-i;\n",
    "        count=0\n",
    "print(\"sum is : \",sum3)"
   ]
  },
  {
   "cell_type": "markdown",
   "metadata": {},
   "source": [
    "### 08) WAP to print multiplication table of given number."
   ]
  },
  {
   "cell_type": "code",
   "execution_count": 77,
   "metadata": {},
   "outputs": [
    {
     "name": "stdout",
     "output_type": "stream",
     "text": [
      "Enter number n7 :  2\n"
     ]
    },
    {
     "name": "stdout",
     "output_type": "stream",
     "text": [
      "2 X 1 =2\n",
      "2 X 2 =4\n",
      "2 X 3 =6\n",
      "2 X 4 =8\n",
      "2 X 5 =10\n",
      "2 X 6 =12\n",
      "2 X 7 =14\n",
      "2 X 8 =16\n",
      "2 X 9 =18\n",
      "2 X 10 =20\n"
     ]
    }
   ],
   "source": [
    "n=int(input(\"Enter number : \"))\n",
    "for i in range(1,11):\n",
    "    print(f\"{n} X {i} ={n*i}\")\n",
    "        "
   ]
  },
  {
   "cell_type": "markdown",
   "metadata": {},
   "source": [
    "### 09) WAP to find factorial of the given number."
   ]
  },
  {
   "cell_type": "code",
   "execution_count": 83,
   "metadata": {},
   "outputs": [
    {
     "name": "stdout",
     "output_type": "stream",
     "text": [
      "enter number :  5\n"
     ]
    },
    {
     "name": "stdout",
     "output_type": "stream",
     "text": [
      "Factorial of given number is :  120\n"
     ]
    }
   ],
   "source": [
    "n=int(input(\"enter number : \"))\n",
    "fact=1;\n",
    "for i in range(1,n+1):\n",
    "    fact=fact*i\n",
    "print(\"Factorial of given number is : \",fact)"
   ]
  },
  {
   "cell_type": "markdown",
   "metadata": {},
   "source": [
    "### 10) WAP to find factors of the given number."
   ]
  },
  {
   "cell_type": "code",
   "execution_count": 85,
   "metadata": {},
   "outputs": [
    {
     "name": "stdout",
     "output_type": "stream",
     "text": [
      "Enter number for factors 6\n"
     ]
    },
    {
     "name": "stdout",
     "output_type": "stream",
     "text": [
      "Factorial of given number is : \n",
      "1\n",
      "2\n",
      "3\n",
      "6\n"
     ]
    }
   ],
   "source": [
    "n10=int(input(\"Enter number for factors\"))\n",
    "print(\"Factorial of given number is : \")\n",
    "for i in range(1,n10+1):\n",
    "    if(n10 % i ==0):\n",
    "        print(i)\n"
   ]
  },
  {
   "cell_type": "markdown",
   "metadata": {},
   "source": [
    "### 11) WAP to find whether the given number is prime or not."
   ]
  },
  {
   "cell_type": "code",
   "execution_count": 97,
   "metadata": {},
   "outputs": [
    {
     "name": "stdout",
     "output_type": "stream",
     "text": [
      "Enter number for factors:  6\n"
     ]
    },
    {
     "name": "stdout",
     "output_type": "stream",
     "text": [
      "Number is not prime\n"
     ]
    }
   ],
   "source": [
    "n11=int(input(\"Enter number for factors: \"))\n",
    "for i in range(2,int(n11/2)):\n",
    "    if(n11%i==0):\n",
    "        print(\"Number is not prime\")\n",
    "        break\n",
    "else:\n",
    "    print(\"Number is prime\")"
   ]
  },
  {
   "cell_type": "markdown",
   "metadata": {},
   "source": [
    "<h3>12) WAP to print sum of digits of given number.</h3>"
   ]
  },
  {
   "cell_type": "code",
   "execution_count": 110,
   "metadata": {
    "scrolled": true
   },
   "outputs": [
    {
     "name": "stdout",
     "output_type": "stream",
     "text": [
      "Enter number:  32\n"
     ]
    },
    {
     "name": "stdout",
     "output_type": "stream",
     "text": [
      "Sum of digits of given number is :  5\n"
     ]
    }
   ],
   "source": [
    "n12=int(input(\"Enter number: \"))\n",
    "sum4=0\n",
    "while(n12>0):\n",
    "    r=n12%10\n",
    "    sum4=sum4+r\n",
    "    n12=int(n12/10)\n",
    "print(\"Sum of digits of given number is : \",sum4)"
   ]
  },
  {
   "cell_type": "markdown",
   "metadata": {},
   "source": [
    "<h3>13) WAP to check whether the given number is palindrome or not</h3>"
   ]
  },
  {
   "cell_type": "code",
   "execution_count": 132,
   "metadata": {},
   "outputs": [
    {
     "name": "stdout",
     "output_type": "stream",
     "text": [
      "Enter number:  123321\n"
     ]
    },
    {
     "name": "stdout",
     "output_type": "stream",
     "text": [
      "123321 is palindrome\n"
     ]
    }
   ],
   "source": [
    "n13=int(input(\"Enter number: \"))\n",
    "no=n13\n",
    "sum5=0\n",
    "while(n13>0):\n",
    "    r=n13%10\n",
    "    sum5=(sum5*10)+r\n",
    "    n13=n13//10\n",
    "if(sum5==no):\n",
    "    print(f\"{no} is palindrome\")\n",
    "else:\n",
    "    print(f\"{no} is not palindrome\")\n",
    "    "
   ]
  },
  {
   "cell_type": "markdown",
   "metadata": {},
   "source": [
    "### 14) WAP to print GCD of given two numbers."
   ]
  },
  {
   "cell_type": "code",
   "execution_count": 162,
   "metadata": {},
   "outputs": [
    {
     "name": "stdout",
     "output_type": "stream",
     "text": [
      "Enter number1:  36\n",
      "Enter number2:  80\n"
     ]
    },
    {
     "name": "stdout",
     "output_type": "stream",
     "text": [
      "Gcd of numbers by math methood is :  4\n",
      "GCD of 36 and 80 is :  4\n"
     ]
    }
   ],
   "source": [
    "import math\n",
    "a=int(input(\"Enter number1: \"))\n",
    "b=int(input(\"Enter number2: \"))\n",
    "i=1\n",
    "gcd=1\n",
    "res=gcd\n",
    "print(\"Gcd of numbers by math methood is : \",math.gcd(a,b))\n",
    "while((a>0 or b>0) and (i<=a or i<=b)):\n",
    "    if(a%i==0 and b%i==0):\n",
    "        gcd=i\n",
    "    if(res<=gcd):\n",
    "        res=gcd\n",
    "    i+=1\n",
    "print(f\"GCD of {a} and {b} is : \",res)"
   ]
  },
  {
   "cell_type": "code",
   "execution_count": null,
   "metadata": {},
   "outputs": [],
   "source": []
  }
 ],
 "metadata": {
  "kernelspec": {
   "display_name": "Python 3 (ipykernel)",
   "language": "python",
   "name": "python3"
  },
  "language_info": {
   "codemirror_mode": {
    "name": "ipython",
    "version": 3
   },
   "file_extension": ".py",
   "mimetype": "text/x-python",
   "name": "python",
   "nbconvert_exporter": "python",
   "pygments_lexer": "ipython3",
   "version": "3.12.7"
  }
 },
 "nbformat": 4,
 "nbformat_minor": 4
}
