{
 "cells": [
  {
   "cell_type": "markdown",
   "metadata": {},
   "source": [
    "\n",
    "<a href='https://www.darshan.ac.in/'> <img src='https://www.darshan.ac.in/Content/media/DU_Logo.svg' width=\"250\" height=\"300\"/></a>\n",
    "<pre>\n",
    "<center><b><h1>Python Programming - 2301CS404</b></center>\n",
    "<center><h2>Tanisha Bhalodiya - 23010101021</h2></center>\n",
    "<center><b><h1>Lab - 4</b></center>    \n",
    "<pre>"
   ]
  },
  {
   "cell_type": "markdown",
   "metadata": {},
   "source": [
    "# String"
   ]
  },
  {
   "cell_type": "markdown",
   "metadata": {},
   "source": [
    "### 01) WAP to check whether the given string is palindrome or not."
   ]
  },
  {
   "cell_type": "code",
   "execution_count": 5,
   "metadata": {},
   "outputs": [
    {
     "name": "stdin",
     "output_type": "stream",
     "text": [
      "Enter String :  abcba\n"
     ]
    },
    {
     "name": "stdout",
     "output_type": "stream",
     "text": [
      "String is palindrome\n"
     ]
    }
   ],
   "source": [
    "s1=input(\"Enter String : \")\n",
    "if s1 == s1[::-1]:\n",
    "    print(\"String is palindrome\")\n",
    "else:\n",
    "    print(\"String is not palindrome\")\n"
   ]
  },
  {
   "cell_type": "markdown",
   "metadata": {},
   "source": [
    "### 02) WAP to reverse the words in the given string."
   ]
  },
  {
   "cell_type": "code",
   "execution_count": 21,
   "metadata": {},
   "outputs": [
    {
     "name": "stdin",
     "output_type": "stream",
     "text": [
      "Enter String :  my name is tanisha\n"
     ]
    },
    {
     "name": "stdout",
     "output_type": "stream",
     "text": [
      "Without for loop reverse string is :  ahsinat si eman ym\n",
      "Reverse of given string is :  my name is tanisha\n"
     ]
    }
   ],
   "source": [
    "s2=input(\"Enter String : \")\n",
    "words=s2.split()\n",
    "print(\"Without for loop reverse string is : \",s2[::-1])\n",
    "str=''\n",
    "for i in words:\n",
    "    str=str+i[::-1]+' '\n",
    "print(\"Reverse of given string is : \",s2)"
   ]
  },
  {
   "cell_type": "markdown",
   "metadata": {},
   "source": [
    "### 03) WAP to remove ith character from given string."
   ]
  },
  {
   "cell_type": "code",
   "execution_count": 3,
   "metadata": {},
   "outputs": [
    {
     "name": "stdin",
     "output_type": "stream",
     "text": [
      "Enter String :  taniisha\n",
      "Enter character you want to remove :  4\n"
     ]
    },
    {
     "name": "stdout",
     "output_type": "stream",
     "text": [
      "String after removing :  tanisha\n"
     ]
    }
   ],
   "source": [
    "s3=input(\"Enter String : \")\n",
    "i=int(input(\"Enter character you want to remove : \"))\n",
    "s3 = s3[:i:] + s3[i+1:]\n",
    "print(\"String after removing : \",s3)"
   ]
  },
  {
   "cell_type": "markdown",
   "metadata": {},
   "source": [
    "### 04) WAP to find length of string without using len function."
   ]
  },
  {
   "cell_type": "code",
   "execution_count": 21,
   "metadata": {},
   "outputs": [
    {
     "name": "stdin",
     "output_type": "stream",
     "text": [
      "Enter String :  tanishaaaa\n"
     ]
    },
    {
     "name": "stdout",
     "output_type": "stream",
     "text": [
      "Length of string is :  10\n"
     ]
    }
   ],
   "source": [
    "s4=input(\"Enter String : \")\n",
    "count=0\n",
    "for i in s4:\n",
    "    count=count+1\n",
    "print(\"Length of string is : \",count)"
   ]
  },
  {
   "cell_type": "markdown",
   "metadata": {},
   "source": [
    "### 05) WAP to print even length word in string."
   ]
  },
  {
   "cell_type": "code",
   "execution_count": 27,
   "metadata": {},
   "outputs": [
    {
     "name": "stdin",
     "output_type": "stream",
     "text": [
      "Enter String :  hi hello girl\n"
     ]
    },
    {
     "name": "stdout",
     "output_type": "stream",
     "text": [
      "Even length word in string : \n",
      "hi\n",
      "girl\n"
     ]
    }
   ],
   "source": [
    "s5=input(\"Enter String : \")\n",
    "words = s5.split()\n",
    "print(\"Even length word in string : \")\n",
    "for i in words:\n",
    "    if len(i)%2==0:\n",
    "        print(i)"
   ]
  },
  {
   "cell_type": "markdown",
   "metadata": {},
   "source": [
    "### 06) WAP to count numbers of vowels in given string."
   ]
  },
  {
   "cell_type": "code",
   "execution_count": 37,
   "metadata": {},
   "outputs": [
    {
     "name": "stdin",
     "output_type": "stream",
     "text": [
      "Enter String :  tanisha\n"
     ]
    },
    {
     "name": "stdout",
     "output_type": "stream",
     "text": [
      "Count numbers of vowels in given string is :  3\n"
     ]
    }
   ],
   "source": [
    "s6=input(\"Enter String : \").lower()\n",
    "c=0\n",
    "vowels='aeiou'\n",
    "for i in s6:\n",
    "    if i in vowels:\n",
    "        c=c+1\n",
    "print(\"Count numbers of vowels in given string is : \",c)"
   ]
  },
  {
   "cell_type": "markdown",
   "metadata": {},
   "source": [
    "### 07) WAP to capitalize the first and last character of each word in a string."
   ]
  },
  {
   "cell_type": "code",
   "execution_count": 1,
   "metadata": {},
   "outputs": [
    {
     "name": "stdin",
     "output_type": "stream",
     "text": [
      "Enter String :  tanisha patel\n"
     ]
    },
    {
     "name": "stdout",
     "output_type": "stream",
     "text": [
      " TanishA PateL\n"
     ]
    }
   ],
   "source": [
    "s7=input(\"Enter String : \")\n",
    "word=s7.split()\n",
    "j=0\n",
    "s7=''\n",
    "for i in word:\n",
    "    j=len(i)-1\n",
    "    i=i[0].capitalize()+i[1:j]+ i[j].upper()\n",
    "    s7=s7+' '+i\n",
    "print(s7)"
   ]
  },
  {
   "cell_type": "markdown",
   "metadata": {},
   "source": [
    "### 08) WAP to convert given array to string."
   ]
  },
  {
   "cell_type": "code",
   "execution_count": 134,
   "metadata": {},
   "outputs": [
    {
     "name": "stdin",
     "output_type": "stream",
     "text": [
      "Enter size :  7\n",
      "Enter ele :  t\n",
      "Enter ele :  a\n",
      "Enter ele :  n\n",
      "Enter ele :  i\n",
      "Enter ele :  s\n",
      "Enter ele :  h\n",
      "Enter ele :  a\n"
     ]
    },
    {
     "name": "stdout",
     "output_type": "stream",
     "text": [
      "String is :  tanisha\n"
     ]
    }
   ],
   "source": [
    "n=int(input(\"Enter size : \"))\n",
    "array=[]\n",
    "string=''\n",
    "for i in range(0,n):\n",
    "    i=input(\"Enter ele : \")\n",
    "    string=string+i\n",
    "print(\"String is : \",string)"
   ]
  },
  {
   "cell_type": "markdown",
   "metadata": {},
   "source": [
    "### 09) Check if the password and confirm password is same or not. \n",
    "### In case of only case's mistake, show the error message."
   ]
  },
  {
   "cell_type": "code",
   "execution_count": 64,
   "metadata": {},
   "outputs": [
    {
     "name": "stdin",
     "output_type": "stream",
     "text": [
      "Enter password :  tani\n",
      "Enter confirm password :  Tani\n"
     ]
    },
    {
     "name": "stdout",
     "output_type": "stream",
     "text": [
      "Password is correct but case is different\n"
     ]
    }
   ],
   "source": [
    "pwd=input(\"Enter password : \")\n",
    "cpwd=input(\"Enter confirm password : \")\n",
    "\n",
    "if pwd==cpwd:\n",
    "    print(\"Password is totally correct\")\n",
    "else:\n",
    "    if pwd.lower()==cpwd.lower():\n",
    "        print(\"Password is correct but case is different\")\n",
    "    else:\n",
    "        print(\"unfortunatly Password is not same\")"
   ]
  },
  {
   "cell_type": "markdown",
   "metadata": {},
   "source": [
    "### 10) : Display credit card number. \n",
    "### card no. : 1234 5678 9012 3456\n",
    "### display as  : **** **** **** 3456"
   ]
  },
  {
   "cell_type": "code",
   "execution_count": 68,
   "metadata": {},
   "outputs": [
    {
     "name": "stdin",
     "output_type": "stream",
     "text": [
      "Enter string :  1234 5678 9012 3456\n"
     ]
    },
    {
     "name": "stdout",
     "output_type": "stream",
     "text": [
      "card no. :  1234 5678 9012 3456\n",
      "display as: **** **** **** 3456\n"
     ]
    }
   ],
   "source": [
    "str=input(\"Enter string : \")\n",
    "print(\"card no. : \",str)\n",
    "print(\"display as: **** **** ****\",str[-4:])"
   ]
  },
  {
   "cell_type": "markdown",
   "metadata": {},
   "source": [
    "### 11) : Checking if the two strings are Anagram or not.\n",
    "### s1 = decimal and s2 = medical are Anagram"
   ]
  },
  {
   "cell_type": "code",
   "execution_count": 3,
   "metadata": {},
   "outputs": [
    {
     "name": "stdin",
     "output_type": "stream",
     "text": [
      "Enter string 1 :  decimal\n",
      "Enter string 2 :  medical\n"
     ]
    },
    {
     "name": "stdout",
     "output_type": "stream",
     "text": [
      "Strings are anagram\n"
     ]
    }
   ],
   "source": [
    "str1=input(\"Enter string 1 : \")\n",
    "str2=input(\"Enter string 2 : \")\n",
    "c=0\n",
    "# if sorted(str1)==sorted(str2):\n",
    "#     print(\"Strings are anagram\")\n",
    "# else:\n",
    "#     print(\"Strings are not anagram\")\n",
    "\n",
    "for i in str1:\n",
    "    if i in str2:\n",
    "        c=c+1\n",
    "if c==len(str1):\n",
    "    print(\"Strings are anagram\")\n",
    "else:\n",
    "    print(\"Strings are not anagram\")"
   ]
  },
  {
   "cell_type": "markdown",
   "metadata": {},
   "source": [
    "<h3>12) : Rearrange the given string. First lowercase then uppercase alphabets.\n",
    " input : EHlsarwiwhtwMV\n",
    " output : lsarwiwhtwEHMV</h3>"
   ]
  },
  {
   "cell_type": "code",
   "execution_count": 104,
   "metadata": {},
   "outputs": [
    {
     "name": "stdin",
     "output_type": "stream",
     "text": [
      "Enter String :  EHlsarwiwhtwMV \n"
     ]
    },
    {
     "name": "stdout",
     "output_type": "stream",
     "text": [
      "String is :  lsarwiwhtwEHMV \n"
     ]
    }
   ],
   "source": [
    "string=input(\"Enter String : \")\n",
    "lower=''\n",
    "upper=''\n",
    "for i in string:\n",
    "    if i.islower():\n",
    "        lower=lower+i\n",
    "    else:\n",
    "        upper=upper+i\n",
    "string=lower+upper\n",
    "print(\"String is : \",string)"
   ]
  },
  {
   "cell_type": "code",
   "execution_count": 98,
   "metadata": {},
   "outputs": [],
   "source": []
  },
  {
   "cell_type": "code",
   "execution_count": null,
   "metadata": {},
   "outputs": [],
   "source": []
  }
 ],
 "metadata": {
  "kernelspec": {
   "display_name": "Python 3 (ipykernel)",
   "language": "python",
   "name": "python3"
  },
  "language_info": {
   "codemirror_mode": {
    "name": "ipython",
    "version": 3
   },
   "file_extension": ".py",
   "mimetype": "text/x-python",
   "name": "python",
   "nbconvert_exporter": "python",
   "pygments_lexer": "ipython3",
   "version": "3.12.7"
  },
  "vscode": {
   "interpreter": {
    "hash": "31f2aee4e71d21fbe5cf8b01ff0e069b9275f58929596ceb00d14d90e3e16cd6"
   }
  }
 },
 "nbformat": 4,
 "nbformat_minor": 4
}
