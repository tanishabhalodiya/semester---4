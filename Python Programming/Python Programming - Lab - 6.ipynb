{
 "cells": [
  {
   "attachments": {},
   "cell_type": "markdown",
   "metadata": {},
   "source": [
    "<a href='https://www.darshan.ac.in/'> <img src='https://www.darshan.ac.in/Content/media/DU_Logo.svg' width=\"250\" height=\"300\"/></a>\n",
    "<pre>\n",
    "<center><b><h1>Python Programming - 2301CS404</b></center>\n",
    "<center><b><h1>Tanisha Bhalodiya - 23010101021</b></center>\n",
    "<center><b><h1>Lab - 6</b></center>    \n",
    "<pre>"
   ]
  },
  {
   "cell_type": "markdown",
   "metadata": {},
   "source": [
    "# Tuple"
   ]
  },
  {
   "cell_type": "markdown",
   "metadata": {},
   "source": [
    "### 01) WAP to find sum of tuple elements."
   ]
  },
  {
   "cell_type": "code",
   "execution_count": 2,
   "metadata": {},
   "outputs": [
    {
     "name": "stdout",
     "output_type": "stream",
     "text": [
      "15\n"
     ]
    }
   ],
   "source": [
    "t1=(1,2,3,4,5)\n",
    "sum=0\n",
    "for i in t1:\n",
    "    sum += i\n",
    "print(sum)"
   ]
  },
  {
   "cell_type": "markdown",
   "metadata": {},
   "source": [
    "### 02) WAP to find Maximum and Minimum K elements in a given tuple."
   ]
  },
  {
   "cell_type": "code",
   "execution_count": 8,
   "metadata": {},
   "outputs": [
    {
     "name": "stdin",
     "output_type": "stream",
     "text": [
      "Enter k :  3\n"
     ]
    },
    {
     "name": "stdout",
     "output_type": "stream",
     "text": [
      "Maximum element is : [0, 1, 2] and minimum element is : [35, 34, 10]\n"
     ]
    }
   ],
   "source": [
    "t2=(3,1,2,6,7,0,9,10,35,34)\n",
    "li=list(t2)\n",
    "li.sort()\n",
    "k=int(input(\"Enter k : \"))\n",
    "maxlist=li[:k:]\n",
    "minlist=li[:-k-1:-1]\n",
    "print(f'Maximum element is : {maxlist} and minimum element is : {minlist}')"
   ]
  },
  {
   "cell_type": "markdown",
   "metadata": {},
   "source": [
    "### 03) WAP to find tuples which have all elements divisible by K from a list of tuples."
   ]
  },
  {
   "cell_type": "code",
   "execution_count": 89,
   "metadata": {},
   "outputs": [
    {
     "name": "stdin",
     "output_type": "stream",
     "text": [
      "Enter k :  2\n"
     ]
    },
    {
     "name": "stdout",
     "output_type": "stream",
     "text": [
      "(32, 4, 6)\n",
      "(2, 4, 6)\n"
     ]
    }
   ],
   "source": [
    "li=[(1,2,3),(32,4,6),(1,3,5),(50,45,84,75),(2,4,6)]\n",
    "k=int(input(\"Enter k : \"))\n",
    "for i in li:\n",
    "    count=0\n",
    "    for j in i:\n",
    "        if(j%k==0):\n",
    "            continue\n",
    "        else:\n",
    "            count=1\n",
    "    if(count==0):\n",
    "        print(i)\n",
    "    # if(count=0):\n",
    "    #     ans=tuple(j for j in i if j%k==0 else count=1)\n",
    "    #     print(ans)"
   ]
  },
  {
   "cell_type": "markdown",
   "metadata": {},
   "source": [
    "### 04) WAP to create a list of tuples from given list having number and its cube in each tuple."
   ]
  },
  {
   "cell_type": "code",
   "execution_count": 100,
   "metadata": {},
   "outputs": [
    {
     "name": "stdout",
     "output_type": "stream",
     "text": [
      "[(1, 1), (2, 4), (3, 9), (4, 16), (5, 25), (6, 36), (7, 49), (8, 64), (9, 81)]\n"
     ]
    }
   ],
   "source": [
    "l4=[1,2,3,4,5,6,7,8,9]\n",
    "result=[]\n",
    "for i in l4:\n",
    "    t=(i,i**2)\n",
    "    result.append(t)\n",
    "print(result)"
   ]
  },
  {
   "cell_type": "markdown",
   "metadata": {},
   "source": [
    "<h3> 05) WAP to find tuples with all positive elements from the given list of tuples.</h3>\n"
   ]
  },
  {
   "cell_type": "code",
   "execution_count": 104,
   "metadata": {},
   "outputs": [
    {
     "name": "stdout",
     "output_type": "stream",
     "text": [
      "(1, 2, 3)\n",
      "(4, 65, 78)\n",
      "(0, 2, 8)\n"
     ]
    }
   ],
   "source": [
    "l5=[(1,2,3),(-1,0,-9),(4,65,78),(0,2,8),(-9,-36,-98)]\n",
    "print(\"Tuples with all positive elements are : \")\n",
    "for t in l5:\n",
    "    count=0\n",
    "    for j in t:\n",
    "        if(j>=0):\n",
    "            continue\n",
    "        else:\n",
    "            count=1\n",
    "    if(count==0):\n",
    "        print(t)"
   ]
  },
  {
   "cell_type": "markdown",
   "metadata": {},
   "source": [
    "### 06) WAP to add tuple to list and vice – versa."
   ]
  },
  {
   "cell_type": "code",
   "execution_count": 118,
   "metadata": {},
   "outputs": [
    {
     "name": "stdout",
     "output_type": "stream",
     "text": [
      "ADD TUPLE TO LIST :  [1, 2, 3, 4, 5, 5, 6, 7, 8, 9]\n",
      "ADD LIST TO TUPLE :  (5, 6, 7, 8, 9, 1, 2, 3, 4, 5)\n"
     ]
    }
   ],
   "source": [
    "l6=[1,2,3,4,5]\n",
    "t6=(5,6,7,8,9)\n",
    "\n",
    "tuple_to_list=l6+list(t6)\n",
    "list_to_tuple=t6+tuple(l6)\n",
    "\n",
    "print('ADD TUPLE TO LIST : ',tuple_to_list)\n",
    "print('ADD LIST TO TUPLE : ',list_to_tuple)"
   ]
  },
  {
   "cell_type": "markdown",
   "metadata": {},
   "source": [
    "### 07) WAP to remove tuples of length K."
   ]
  },
  {
   "cell_type": "code",
   "execution_count": 153,
   "metadata": {},
   "outputs": [
    {
     "name": "stdin",
     "output_type": "stream",
     "text": [
      "Enter k :  3\n"
     ]
    },
    {
     "name": "stdout",
     "output_type": "stream",
     "text": [
      "[(1, 2), (1, 1), (2, 8), (9, -36, -98, 0), (1,)]\n"
     ]
    }
   ],
   "source": [
    "l7=[(1,2),(1,1),(4,65,78),(2,8),(9,-36,-98,0),(1,)]\n",
    "k=int(input('Enter k : '))\n",
    "j=0\n",
    "li=0\n",
    "while(j<len(l7)):\n",
    "    if(len(l7[j])==k):\n",
    "        l7.pop(j)\n",
    "        j=j-1\n",
    "    j=j+1\n",
    "print(l7)"
   ]
  },
  {
   "cell_type": "markdown",
   "metadata": {},
   "source": [
    "<h3> 08) WAP to remove duplicates from tuple. </h3>\n",
    "\n"
   ]
  },
  {
   "cell_type": "code",
   "execution_count": 165,
   "metadata": {},
   "outputs": [
    {
     "name": "stdout",
     "output_type": "stream",
     "text": [
      "after removing duplicates from tuple: \n",
      "(0, 1, 2, 3, 4, 5, 6, 7, 8)\n"
     ]
    }
   ],
   "source": [
    "tup=(1,2,3,2,4,5,6,5,7,8,1,0,2,4,4)\n",
    "s=set(tup)\n",
    "tup=tuple(s)\n",
    "print('after removing duplicates from tuple: ')\n",
    "print(tup)"
   ]
  },
  {
   "cell_type": "markdown",
   "metadata": {},
   "source": [
    "<h3>09) WAP to multiply adjacent elements of a tuple and print that resultant tuple.</h3>"
   ]
  },
  {
   "cell_type": "code",
   "execution_count": 189,
   "metadata": {},
   "outputs": [
    {
     "name": "stdout",
     "output_type": "stream",
     "text": [
      "(1, 2, 3, 4, 5, 6)\n",
      "multiply adjacent elements of a tuple : \n",
      "(2, 6, 12, 20, 30)\n"
     ]
    }
   ],
   "source": [
    "t9=(1,2,3,4,5,6)\n",
    "t9=list(t9)\n",
    "print(tuple(t9))\n",
    "res=[]\n",
    "print('multiply adjacent elements of a tuple : ')\n",
    "for i in range(1,len(li)):\n",
    "    res.append(t9[i-1]*t9[i])\n",
    "print(tuple(res))"
   ]
  },
  {
   "cell_type": "markdown",
   "metadata": {},
   "source": [
    "<h3>10) WAP to test if the given tuple is distinct or not.</h3> "
   ]
  },
  {
   "cell_type": "code",
   "execution_count": 198,
   "metadata": {},
   "outputs": [
    {
     "name": "stdout",
     "output_type": "stream",
     "text": [
      "tuple is not distinct\n"
     ]
    }
   ],
   "source": [
    "t9=(1,2,3,4,5,6)\n",
    "tup=(1,2,3,2,4,5,6,5,7,8,1,0,2,4,4)\n",
    "if(len(tup)==len(set(tup))):\n",
    "    print('tuple is distinct')\n",
    "else:\n",
    "    print('tuple is not distinct')"
   ]
  },
  {
   "cell_type": "code",
   "execution_count": 4,
   "metadata": {},
   "outputs": [
    {
     "name": "stdout",
     "output_type": "stream",
     "text": [
      "['a', 'b', 'A', 'K', 'AK', 'AK']\n"
     ]
    }
   ],
   "source": [
    "lst = [\"a\", \"b\"]\n",
    "lst.extend(\"AK\")\n",
    "lst.extend([\"AK\",\"AK\"])\n",
    "print(lst)"
   ]
  },
  {
   "cell_type": "code",
   "execution_count": 6,
   "metadata": {},
   "outputs": [
    {
     "name": "stdout",
     "output_type": "stream",
     "text": [
      "index(-1) =  3\n",
      "[1, 2, 'near end', 3]\n"
     ]
    }
   ],
   "source": [
    "lst = [1, 2, 3]\n",
    "print(\"index(-1) = \",lst[-1])\n",
    "lst.insert(-1, \"near end\")\n",
    "print(lst)  # [1, 2, 'near end', 3]"
   ]
  },
  {
   "cell_type": "code",
   "execution_count": null,
   "metadata": {},
   "outputs": [],
   "source": []
  },
  {
   "cell_type": "code",
   "execution_count": null,
   "metadata": {},
   "outputs": [],
   "source": []
  }
 ],
 "metadata": {
  "kernelspec": {
   "display_name": "Python 3 (ipykernel)",
   "language": "python",
   "name": "python3"
  },
  "language_info": {
   "codemirror_mode": {
    "name": "ipython",
    "version": 3
   },
   "file_extension": ".py",
   "mimetype": "text/x-python",
   "name": "python",
   "nbconvert_exporter": "python",
   "pygments_lexer": "ipython3",
   "version": "3.12.7"
  }
 },
 "nbformat": 4,
 "nbformat_minor": 4
}
