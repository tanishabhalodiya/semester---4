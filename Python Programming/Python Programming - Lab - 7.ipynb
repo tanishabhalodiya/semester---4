{
 "cells": [
  {
   "cell_type": "markdown",
   "metadata": {},
   "source": [
    "<a href='https://www.darshan.ac.in/'> <img src='https://www.darshan.ac.in/Content/media/DU_Logo.svg' width=\"250\" height=\"300\"/></a>\n",
    "<pre>\n",
    "<center><b><h1>Python Programming - 2301CS404</b></center>\n",
    "<center><b><h1>Tanisha Bhalodiya - 23010101021</b></center>\n",
    "<center><b><h1>Lab - 7</b></center>    \n",
    "<pre>"
   ]
  },
  {
   "cell_type": "markdown",
   "metadata": {},
   "source": [
    "# Set & Dictionary"
   ]
  },
  {
   "cell_type": "markdown",
   "metadata": {},
   "source": [
    "### 01) WAP to iterate over a set."
   ]
  },
  {
   "cell_type": "code",
   "execution_count": 1,
   "metadata": {},
   "outputs": [
    {
     "name": "stdout",
     "output_type": "stream",
     "text": [
      "1\n",
      "2\n",
      "3\n",
      "4\n",
      "5\n",
      "6\n",
      "7\n"
     ]
    }
   ],
   "source": [
    "s1={1,2,3,4,5,6,7}\n",
    "for i in s1:\n",
    "    print(i)"
   ]
  },
  {
   "cell_type": "markdown",
   "metadata": {},
   "source": [
    "<h3>2) WAP to convert set into list, string and tuple.</h3> "
   ]
  },
  {
   "cell_type": "code",
   "execution_count": 20,
   "metadata": {},
   "outputs": [
    {
     "name": "stdout",
     "output_type": "stream",
     "text": [
      "set is :  {1, 2, 3, 4, 5}\n",
      "list is :  [1, 2, 3, 4, 5]\n",
      "Tuple is :  (1, 2, 3, 4, 5)\n",
      "string is :  12345\n"
     ]
    }
   ],
   "source": [
    "set1={1,2,3,4,5}\n",
    "print('set is : ',set1)\n",
    "list1=list(set1)\n",
    "print('list is : ',list1)\n",
    "tup1=tuple(set1)\n",
    "print('Tuple is : ',tup1)\n",
    "str1=''\n",
    "for i in set1:\n",
    "    str1=str1+str(i)\n",
    "print('string is : ',str1)"
   ]
  },
  {
   "cell_type": "markdown",
   "metadata": {},
   "source": [
    "### 03) WAP to find Maximum and Minimum from a set."
   ]
  },
  {
   "cell_type": "code",
   "execution_count": 3,
   "metadata": {},
   "outputs": [
    {
     "name": "stdout",
     "output_type": "stream",
     "text": [
      "maximum is :  6\n",
      "minimum is :  1\n",
      "max is :  6\n",
      "min is :  1\n"
     ]
    }
   ],
   "source": [
    "set1={1,2,3,4,5,6}\n",
    "maximum=0\n",
    "minimum=set1.pop()\n",
    "set1.add(minimum)\n",
    "for i in set1:\n",
    "    if(i>maximum):\n",
    "        maximum=i\n",
    "    if(i<minimum):\n",
    "        minimum=i\n",
    "\n",
    "print('maximum is : ',maximum)\n",
    "print('minimum is : ',minimum)\n",
    "print('max is : ',max(set1))\n",
    "print('min is : ',min(set1))"
   ]
  },
  {
   "cell_type": "markdown",
   "metadata": {},
   "source": [
    "### 04) WAP to perform union of two sets."
   ]
  },
  {
   "cell_type": "code",
   "execution_count": 1,
   "metadata": {},
   "outputs": [
    {
     "name": "stdout",
     "output_type": "stream",
     "text": [
      "union of two sets is :  {1, 2, 3, 4, 5, 6, 7, 8}\n"
     ]
    }
   ],
   "source": [
    "s1={1,2,3,4}\n",
    "s2={3,4,5,6,7,8}\n",
    "print('union of two sets is : ',s1.union(s2))"
   ]
  },
  {
   "cell_type": "markdown",
   "metadata": {},
   "source": [
    "### 05) WAP to check if two lists have at-least one element common."
   ]
  },
  {
   "cell_type": "code",
   "execution_count": 11,
   "metadata": {},
   "outputs": [
    {
     "name": "stdout",
     "output_type": "stream",
     "text": [
      "Sets have at-least one element common\n"
     ]
    }
   ],
   "source": [
    "s1={1,2,3,4}\n",
    "s2={3,4,5,6,7,8}\n",
    "c=len(s1.intersection(s2))\n",
    "if(c>=1):\n",
    "    print('Sets have at-least one element common')"
   ]
  },
  {
   "cell_type": "markdown",
   "metadata": {},
   "source": [
    "### 06) WAP to remove duplicates from list."
   ]
  },
  {
   "cell_type": "code",
   "execution_count": 9,
   "metadata": {},
   "outputs": [
    {
     "name": "stdout",
     "output_type": "stream",
     "text": [
      "[1, 2, 3, 4, 5, 6]\n"
     ]
    }
   ],
   "source": [
    "list1=[1,2,3,4,4,5,5,6,6]\n",
    "set2=list(set(list1))\n",
    "print(set2)"
   ]
  },
  {
   "cell_type": "markdown",
   "metadata": {},
   "source": [
    "### 07) WAP to find unique words in the given string."
   ]
  },
  {
   "cell_type": "code",
   "execution_count": 7,
   "metadata": {},
   "outputs": [
    {
     "name": "stdout",
     "output_type": "stream",
     "text": [
      "{'is', 'python,', 'very', 'python', 'easy', 'this'}\n"
     ]
    }
   ],
   "source": [
    "str2='this is python, python is very easy'\n",
    "l7=str2.split()\n",
    "set3=set(l7)\n",
    "print(set3)"
   ]
  },
  {
   "cell_type": "code",
   "execution_count": 17,
   "metadata": {},
   "outputs": [
    {
     "name": "stdout",
     "output_type": "stream",
     "text": [
      "[10, 10, 10]\n"
     ]
    }
   ],
   "source": [
    "l1=[1,2,3]\n",
    "l2=[10,10,10]\n",
    "ans=list(map(lambda x,y:max(x,y),l1,l2))\n",
    "print(ans)"
   ]
  },
  {
   "cell_type": "markdown",
   "metadata": {},
   "source": [
    "### 08) WAP to remove common elements of set A & B from set A."
   ]
  },
  {
   "cell_type": "code",
   "execution_count": 40,
   "metadata": {},
   "outputs": [
    {
     "name": "stdout",
     "output_type": "stream",
     "text": [
      "Set A is :  {1, 2, 3, 4, 5}\n",
      "Set B is :  {4, 5, 6, 7, 8}\n",
      "Common element are :  [4, 5]\n",
      "After removing :  {1, 2, 3}\n"
     ]
    }
   ],
   "source": [
    "seta={1,2,3,4,5}\n",
    "print('Set A is : ',seta)\n",
    "setb={4,5,6,7,8}\n",
    "print('Set B is : ',setb)\n",
    "common=list(seta.intersection(setb))\n",
    "print('Common element are : ',common)\n",
    "for i in common:\n",
    "    seta.remove(i)\n",
    "print('After removing : ',seta)"
   ]
  },
  {
   "cell_type": "markdown",
   "metadata": {},
   "source": [
    "### 09) WAP to check whether two given strings are anagram or not using set."
   ]
  },
  {
   "cell_type": "code",
   "execution_count": 47,
   "metadata": {},
   "outputs": [
    {
     "name": "stdin",
     "output_type": "stream",
     "text": [
      "Enter string 1:  vile\n",
      "Enter string 2:  evil\n"
     ]
    },
    {
     "name": "stdout",
     "output_type": "stream",
     "text": [
      "Strings are anagram\n"
     ]
    }
   ],
   "source": [
    "str3=input('Enter string 1: ')\n",
    "l3=list(str3)\n",
    "str4=input('Enter string 2: ')\n",
    "l4=list(str4)\n",
    "flag=False\n",
    "for i in l3:\n",
    "    if(i not in l4):\n",
    "        flag=True\n",
    "        print('Strings are not anagram')\n",
    "if(flag==False):\n",
    "    print('Strings are anagram')"
   ]
  },
  {
   "cell_type": "code",
   "execution_count": 33,
   "metadata": {},
   "outputs": [
    {
     "name": "stdout",
     "output_type": "stream",
     "text": [
      "abcd\n"
     ]
    }
   ],
   "source": [
    "from functools import reduce\n",
    "s1=['a','b','c','d']\n",
    "ans=reduce(lambda x,y:x+y,s1)\n",
    "print(ans)"
   ]
  },
  {
   "cell_type": "markdown",
   "metadata": {},
   "source": [
    "<h3>10) WAP to find common elements in three lists using set.</h3> "
   ]
  },
  {
   "cell_type": "code",
   "execution_count": 29,
   "metadata": {},
   "outputs": [
    {
     "name": "stdout",
     "output_type": "stream",
     "text": [
      "Common elements :  {4, 5}\n"
     ]
    }
   ],
   "source": [
    "s1=[1,2,3,4,5]\n",
    "s2=[4,5,6,7,8]\n",
    "s3=[4,5,9,10,11]\n",
    "l1=set(s1)\n",
    "l2=set(s2)\n",
    "l3=set(s3)\n",
    "ele=l3.intersection(l2.intersection(l1))\n",
    "print('Common elements : ',ele)"
   ]
  },
  {
   "cell_type": "markdown",
   "metadata": {},
   "source": [
    "### 11) WAP to count number of vowels in given string using set."
   ]
  },
  {
   "cell_type": "code",
   "execution_count": 21,
   "metadata": {},
   "outputs": [
    {
     "name": "stdin",
     "output_type": "stream",
     "text": [
      "Enter string with vowels :  tanisha\n"
     ]
    },
    {
     "name": "stdout",
     "output_type": "stream",
     "text": [
      "Number of vowels in given string is :  3\n"
     ]
    }
   ],
   "source": [
    "str5=input('Enter string with vowels : ')\n",
    "vowel=set('aAeEiIoOuU')\n",
    "count=0\n",
    "for i in str5:\n",
    "    if i in vowel:\n",
    "        count+=1\n",
    "print('Number of vowels in given string is : ',count)"
   ]
  },
  {
   "cell_type": "code",
   "execution_count": 51,
   "metadata": {},
   "outputs": [
    {
     "name": "stdout",
     "output_type": "stream",
     "text": [
      "[11, 22, 11, 22, 11, 11, 11, 22]\n"
     ]
    }
   ],
   "source": [
    "l3=[11,22,33,44,11,22,36,14,11,11,11,22]\n",
    "from functools import reduce\n",
    "ans=list(filter(lambda x:l3.count(x) >= 2 and x%11==0,l3))\n",
    "print(ans)"
   ]
  },
  {
   "cell_type": "markdown",
   "metadata": {},
   "source": [
    "### 12) WAP to check if a given string is binary string or not."
   ]
  },
  {
   "cell_type": "code",
   "execution_count": 25,
   "metadata": {},
   "outputs": [
    {
     "name": "stdin",
     "output_type": "stream",
     "text": [
      "Enter string :  0120101\n"
     ]
    },
    {
     "name": "stdout",
     "output_type": "stream",
     "text": [
      "Given string is not binary string\n"
     ]
    }
   ],
   "source": [
    "str5=input('Enter string : ')\n",
    "binary=set('01')\n",
    "flag=False\n",
    "for i in str5:\n",
    "    if i not in binary:\n",
    "        flag=True\n",
    "        print('Given string is not binary string')\n",
    "if flag==False:\n",
    "    print('Given string is binary')"
   ]
  },
  {
   "cell_type": "markdown",
   "metadata": {},
   "source": [
    "### 13) WAP to sort dictionary by key or value."
   ]
  },
  {
   "cell_type": "code",
   "execution_count": 111,
   "metadata": {},
   "outputs": [
    {
     "name": "stdout",
     "output_type": "stream",
     "text": [
      "Sorted by keys :  {'five': 5, 'four': 4, 'one': 1, 'three': 3, 'two': 2, 'zero': 0}\n",
      "Sorted by values :  {'zero': 0, 'one': 1, 'two': 2, 'three': 3, 'four': 4, 'five': 5}\n",
      "Sorted by key :  {'five': 5, 'four': 4, 'one': 1, 'three': 3, 'two': 2, 'zero': 0}\n",
      "Sorted by value :  {'zero': 0, 'one': 1, 'two': 2, 'three': 3, 'four': 4, 'five': 5}\n"
     ]
    },
    {
     "data": {
      "text/plain": [
       "dict_items([('one', 1), ('zero', 0), ('two', 2), ('four', 4), ('three', 3), ('five', 5)])"
      ]
     },
     "execution_count": 111,
     "metadata": {},
     "output_type": "execute_result"
    }
   ],
   "source": [
    "dic={'one':1,'zero':0,'two':2,'four':4,'three':3,'five':5}\n",
    "key=list(dic.keys())\n",
    "value=list(dic.values())\n",
    "\n",
    "\n",
    "for i in range(len(key)):\n",
    "    for j in range(i+1,len(key)):\n",
    "        if key[i]>key[j]:\n",
    "            key[i],key[j]=key[j],key[i]\n",
    "            value[i],value[j]=value[j],value[i]\n",
    "                \n",
    "sorted_by_key=dict(zip(key,value))\n",
    "print('Sorted by keys : ',sorted_by_key)\n",
    "\n",
    "for i in range(len(value)):\n",
    "    for j in range(i+1,len(value)):\n",
    "        if value[i]>value[j]:\n",
    "            value[i],value[j]=value[j],value[i]\n",
    "            key[i],key[j]=key[j],key[i]\n",
    "\n",
    "sorted_by_value=dict(zip(key,value))\n",
    "print('Sorted by values : ',sorted_by_value)\n",
    "\n",
    "# we can do like this also...............\n",
    "\n",
    "sort_by_key=dict(sorted(dic.items()))\n",
    "print('Sorted by key : ',sort_by_key)\n",
    "sort_by_value=dict(sorted(dic.items(),key=lambda item:item[1]))\n",
    "print('Sorted by value : ',sort_by_value)\n",
    "\n",
    "dic.items()"
   ]
  },
  {
   "cell_type": "markdown",
   "metadata": {},
   "source": [
    "### 14) WAP to find the sum of all items (values) in a dictionary given by user. (Assume: values are numeric)"
   ]
  },
  {
   "cell_type": "code",
   "execution_count": 59,
   "metadata": {},
   "outputs": [
    {
     "name": "stdin",
     "output_type": "stream",
     "text": [
      "Enter size of dictionary :  3\n",
      "enter keys :  one\n",
      "enter value :  1\n",
      "enter keys :  two\n",
      "enter value :  2\n",
      "enter keys :  three\n",
      "enter value :  3\n"
     ]
    },
    {
     "name": "stdout",
     "output_type": "stream",
     "text": [
      "dictionary is :  {'one': 1, 'two': 2, 'three': 3}\n",
      "Sum of values :  6\n"
     ]
    }
   ],
   "source": [
    "dict1={}\n",
    "sum1=0\n",
    "n=int(input('Enter size of dictionary : '))\n",
    "for _ in range(n):\n",
    "    key=input('enter keys : ')\n",
    "    value=int(input('enter value : '))\n",
    "    dict1[key]=value\n",
    "    sum1+=value\n",
    "print('dictionary is : ',dict1)\n",
    "print('Sum of values : ',sum1)"
   ]
  },
  {
   "cell_type": "markdown",
   "metadata": {},
   "source": [
    "### 15) WAP to handle missing keys in dictionaries.\n",
    "#### Example : Given, dict1 = {'a': 5, 'c': 8, 'e': 2} \n",
    "#### if you look for key = 'd', the message given should be 'Key Not Found', otherwise print the value of 'd' in dict1."
   ]
  },
  {
   "cell_type": "code",
   "execution_count": 115,
   "metadata": {},
   "outputs": [
    {
     "name": "stdin",
     "output_type": "stream",
     "text": [
      "Enter key :  d\n"
     ]
    },
    {
     "name": "stdout",
     "output_type": "stream",
     "text": [
      "KEY NOT FOUND\n"
     ]
    }
   ],
   "source": [
    "dict2={'a':1,'b':2,'c':3,'e':4,'h':5}\n",
    "k=input('Enter key : ')\n",
    "if(k in dict2.keys()):\n",
    "    print('Values of key is : ',dict2.get(k))\n",
    "else:\n",
    "    print('KEY NOT FOUND')"
   ]
  },
  {
   "cell_type": "code",
   "execution_count": 3,
   "metadata": {},
   "outputs": [
    {
     "name": "stdin",
     "output_type": "stream",
     "text": [
      "Enter number :  5\n"
     ]
    },
    {
     "name": "stdout",
     "output_type": "stream",
     "text": [
      "0\n",
      "1\n",
      "1\n",
      "2\n",
      "3\n"
     ]
    }
   ],
   "source": [
    "# generate fibbonaci series without recursion\n",
    "\n",
    "# n=int(input('Enter number : '))\n",
    "# i=0\n",
    "# j=1\n",
    "# print(i)\n",
    "# print(j)\n",
    "# for c in range(n-2):\n",
    "#     k=i+j\n",
    "#     print(k)\n",
    "#     i,j=j,k\n",
    "\n",
    "\n",
    "# generate fibbonaci series with recursion\n",
    "def fibbo(n):\n",
    "    if n <= 1:\n",
    "        return n\n",
    "    else:\n",
    "        return fibbo(n - 1) + fibbo(n - 2)\n",
    "        \n",
    "n=int(input('Enter number : '))\n",
    "for i in range(n):\n",
    "    print(fibbo(i))"
   ]
  },
  {
   "cell_type": "markdown",
   "metadata": {},
   "source": [
    "## "
   ]
  },
  {
   "cell_type": "code",
   "execution_count": null,
   "metadata": {},
   "outputs": [],
   "source": []
  }
 ],
 "metadata": {
  "kernelspec": {
   "display_name": "Python 3 (ipykernel)",
   "language": "python",
   "name": "python3"
  },
  "language_info": {
   "codemirror_mode": {
    "name": "ipython",
    "version": 3
   },
   "file_extension": ".py",
   "mimetype": "text/x-python",
   "name": "python",
   "nbconvert_exporter": "python",
   "pygments_lexer": "ipython3",
   "version": "3.12.7"
  }
 },
 "nbformat": 4,
 "nbformat_minor": 4
}
