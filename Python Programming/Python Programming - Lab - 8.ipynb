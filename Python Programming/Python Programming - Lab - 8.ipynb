{
 "cells": [
  {
   "cell_type": "markdown",
   "metadata": {},
   "source": [
    "<a href='https://www.darshan.ac.in/'> <img src='https://www.darshan.ac.in/Content/media/DU_Logo.svg' width=\"250\" height=\"300\"/></a>\n",
    "<pre>\n",
    "<center><b><h1>Python Programming - 2301CS404</b></center>\n",
    "<center><b><h1>Tanisha Bhalodiya - 23010101021</b></center>\n",
    "<center><b><h1>Lab - 8</b></center>    \n",
    "<pre>"
   ]
  },
  {
   "cell_type": "markdown",
   "metadata": {},
   "source": [
    "# User Defined Function"
   ]
  },
  {
   "cell_type": "markdown",
   "metadata": {},
   "source": [
    "\n",
    "<h3>01) Write a function to calculate BMI given mass and height. (BMI = mass/h**2)</h3> "
   ]
  },
  {
   "cell_type": "code",
   "execution_count": 30,
   "metadata": {},
   "outputs": [
    {
     "name": "stdin",
     "output_type": "stream",
     "text": [
      "Enter height :  150\n",
      "Enter weight :  49\n"
     ]
    },
    {
     "name": "stdout",
     "output_type": "stream",
     "text": [
      "bmi is :  0.0021777777777777776\n"
     ]
    }
   ],
   "source": [
    "def calculate_bmi(h, mass):\n",
    "    bmi = mass / (h ** 2)\n",
    "    return bmi\n",
    "h=float(input('Enter height : '))\n",
    "mass=float(input('Enter weight : '))\n",
    "bmi=calculate_bmi(h,mass)\n",
    "print('bmi is : ',bmi)"
   ]
  },
  {
   "cell_type": "markdown",
   "metadata": {},
   "source": [
    "### 02) Write a function that add first n numbers."
   ]
  },
  {
   "cell_type": "code",
   "execution_count": 38,
   "metadata": {},
   "outputs": [
    {
     "name": "stdin",
     "output_type": "stream",
     "text": [
      "Enter n :  5\n"
     ]
    },
    {
     "name": "stdout",
     "output_type": "stream",
     "text": [
      "Addition of first 5 numbers is 10 \n"
     ]
    }
   ],
   "source": [
    "n=int(input('Enter n : '))\n",
    "def add_n(n):\n",
    "    add=0\n",
    "    for i in range(n):\n",
    "        add=add+i\n",
    "    print(f'Addition of first {n} numbers is {add} ')\n",
    "add_n(n)"
   ]
  },
  {
   "cell_type": "markdown",
   "metadata": {},
   "source": [
    "### 03) Write a function that returns 1 if the given number is Prime or 0 otherwise."
   ]
  },
  {
   "cell_type": "code",
   "execution_count": 58,
   "metadata": {},
   "outputs": [
    {
     "name": "stdin",
     "output_type": "stream",
     "text": [
      "Enter number :  5\n"
     ]
    },
    {
     "data": {
      "text/plain": [
       "1"
      ]
     },
     "execution_count": 58,
     "metadata": {},
     "output_type": "execute_result"
    }
   ],
   "source": [
    "num=int(input('Enter number : '))\n",
    "def check_prime(num):\n",
    "    i=2\n",
    "    while(i<num):\n",
    "        if(num%i==0):\n",
    "            return 0\n",
    "            break\n",
    "        i+=1\n",
    "    return 1\n",
    "check_prime(num)"
   ]
  },
  {
   "cell_type": "markdown",
   "metadata": {},
   "source": [
    "### 04) Write a function that returns the list of Prime numbers between given two numbers."
   ]
  },
  {
   "cell_type": "code",
   "execution_count": 78,
   "metadata": {},
   "outputs": [
    {
     "name": "stdin",
     "output_type": "stream",
     "text": [
      "Enter number 1 :  2\n",
      "Enter number 2 :  50\n"
     ]
    },
    {
     "name": "stdout",
     "output_type": "stream",
     "text": [
      "[2, 3, 5, 7, 11, 13, 17, 19, 23, 29, 31, 37, 41, 43, 47]\n"
     ]
    }
   ],
   "source": [
    "n1=int(input('Enter number 1 : '))\n",
    "n2=int(input('Enter number 2 : '))\n",
    "prime=[]\n",
    "def prime_list(n1,n2):\n",
    "    for n in range(n1,n2):\n",
    "        flag=0\n",
    "        for i in range(2,n):\n",
    "            if(n%i==0):\n",
    "                flag=1\n",
    "                break;\n",
    "        if(flag==0):\n",
    "            prime.append(n)\n",
    "prime_list(n1,n2)\n",
    "print(prime)"
   ]
  },
  {
   "cell_type": "markdown",
   "metadata": {},
   "source": [
    "### 05) Write a function that returns True if the given string is Palindrome or False otherwise."
   ]
  },
  {
   "cell_type": "code",
   "execution_count": 80,
   "metadata": {},
   "outputs": [
    {
     "name": "stdin",
     "output_type": "stream",
     "text": [
      "Enter String :  abba\n"
     ]
    },
    {
     "data": {
      "text/plain": [
       "True"
      ]
     },
     "execution_count": 80,
     "metadata": {},
     "output_type": "execute_result"
    }
   ],
   "source": [
    "s1=input(\"Enter String : \")\n",
    "def check_palindrome(s1):\n",
    "    if s1==s1[::-1]:\n",
    "        return True\n",
    "    else:\n",
    "        return False\n",
    "check_palindrome(s1)\n"
   ]
  },
  {
   "cell_type": "markdown",
   "metadata": {},
   "source": [
    "### 06) Write a function that returns the sum of all the elements of the list."
   ]
  },
  {
   "cell_type": "code",
   "execution_count": 96,
   "metadata": {},
   "outputs": [
    {
     "name": "stdout",
     "output_type": "stream",
     "text": [
      "Sum of elements :  21\n"
     ]
    }
   ],
   "source": [
    "numbers=[1,2,3,4,5,6]\n",
    "def sum_of_list(numbers):\n",
    "    # we can use LIST COMPREHENTION\n",
    "    total=sum([i for i in numbers])\n",
    "    # total=0\n",
    "    # for i in numbers:\n",
    "    #     total+=i\n",
    "    print('Sum of elements : ',total)\n",
    "sum_of_list(numbers)"
   ]
  },
  {
   "cell_type": "markdown",
   "metadata": {},
   "source": [
    "### 07) Write a function to calculate the sum of the first element of each tuples inside the list."
   ]
  },
  {
   "cell_type": "code",
   "execution_count": 100,
   "metadata": {},
   "outputs": [
    {
     "name": "stdout",
     "output_type": "stream",
     "text": [
      "Sum of first element in tuple is :  15\n"
     ]
    }
   ],
   "source": [
    "l1=[(1,2),(2,3),(3,4),(4,5),(5,6)]\n",
    "def sum_of_tuple(l1):\n",
    "    sum1=0\n",
    "    for i in l1:\n",
    "        a,b=i\n",
    "        sum1=sum1+a\n",
    "    print('Sum of first element in tuple is : ',sum1)\n",
    "sum_of_tuple(l1)"
   ]
  },
  {
   "cell_type": "markdown",
   "metadata": {},
   "source": [
    "### 08) Write a recursive function to find nth term of Fibonacci Series."
   ]
  },
  {
   "cell_type": "code",
   "execution_count": 106,
   "metadata": {},
   "outputs": [
    {
     "name": "stdin",
     "output_type": "stream",
     "text": [
      "Enter n :  8\n"
     ]
    },
    {
     "data": {
      "text/plain": [
       "21"
      ]
     },
     "execution_count": 106,
     "metadata": {},
     "output_type": "execute_result"
    }
   ],
   "source": [
    "n=int(input('Enter n : '))\n",
    "def fibo(n):\n",
    "    if n<=1:\n",
    "        return n\n",
    "    else:\n",
    "        return fibo(n-1)+fibo(n-2)\n",
    "fibo(n)"
   ]
  },
  {
   "cell_type": "markdown",
   "metadata": {},
   "source": [
    "### 09) Write a function to get the name of the student based on the given rollno.\n",
    "#### Example: Given dict1 = {101:'Ajay', 102:'Rahul', 103:'Jay', 104:'Pooja'} find name of student whose rollno = 103"
   ]
  },
  {
   "cell_type": "code",
   "execution_count": 110,
   "metadata": {},
   "outputs": [
    {
     "name": "stdin",
     "output_type": "stream",
     "text": [
      "Enter roll no :  101\n"
     ]
    },
    {
     "data": {
      "text/plain": [
       "'Ajay'"
      ]
     },
     "execution_count": 110,
     "metadata": {},
     "output_type": "execute_result"
    }
   ],
   "source": [
    "dict1 = {101:'Ajay', 102:'Rahul', 103:'Jay', 104:'Pooja'}\n",
    "rollNo=int(input('Enter roll no : '))\n",
    "def get_name(dict1,rollNo):\n",
    "    return dict1.get(rollNo)\n",
    "get_name(dict1,rollNo)"
   ]
  },
  {
   "cell_type": "markdown",
   "metadata": {},
   "source": [
    "### 10) Write a function to get the sum of the scores ending with zero.\n",
    "#### Example : scores = [200, 456, 300, 100, 234, 678] \n",
    "#### Ans = 200 + 300 + 100 = 600"
   ]
  },
  {
   "cell_type": "code",
   "execution_count": 112,
   "metadata": {},
   "outputs": [
    {
     "data": {
      "text/plain": [
       "600"
      ]
     },
     "execution_count": 112,
     "metadata": {},
     "output_type": "execute_result"
    }
   ],
   "source": [
    "scores = [200, 456, 300, 100, 234, 678]\n",
    "def sum_of_score(scores):\n",
    "    total=0\n",
    "    for i in scores:\n",
    "        if(i%10==0):\n",
    "            total=total+i\n",
    "    return total\n",
    "sum_of_score(scores)"
   ]
  },
  {
   "cell_type": "markdown",
   "metadata": {},
   "source": [
    "### 11) Write a function to invert a given Dictionary.\n",
    "#### hint: keys to values & values to keys\n",
    "#### Before : {'a': 10, 'b':20, 'c':30, 'd':40}\n",
    "#### After : {10:'a', 20:'b', 30:'c', 40:'d'}"
   ]
  },
  {
   "cell_type": "code",
   "execution_count": 124,
   "metadata": {},
   "outputs": [
    {
     "data": {
      "text/plain": [
       "{10: 'a', 20: 'b', 30: 'c', 40: 'd'}"
      ]
     },
     "execution_count": 124,
     "metadata": {},
     "output_type": "execute_result"
    }
   ],
   "source": [
    "dict2={'a': 10, 'b':20, 'c':30, 'd':40}\n",
    "def invert_dict(dict2):\n",
    "    dict3={}\n",
    "    for i in dict2:\n",
    "        key=i\n",
    "        val=dict2.get(i)\n",
    "        dict3[val]=key\n",
    "    return dict3\n",
    "invert_dict(dict2)"
   ]
  },
  {
   "cell_type": "markdown",
   "metadata": {},
   "source": [
    "### 12) Write a function to check whether the given string is Pangram or not.\n",
    "#### hint: Pangram is a string containing all the characters a-z atlest once.\n",
    "#### \"the quick brown fox jumps over the lazy dog\" is a Pangram string."
   ]
  },
  {
   "cell_type": "code",
   "execution_count": 138,
   "metadata": {},
   "outputs": [
    {
     "name": "stdin",
     "output_type": "stream",
     "text": [
      "Enter string :  hij\n"
     ]
    },
    {
     "data": {
      "text/plain": [
       "'String is pangram string'"
      ]
     },
     "execution_count": 138,
     "metadata": {},
     "output_type": "execute_result"
    }
   ],
   "source": [
    "# string=input('Enter string : ')\n",
    "string='the quick brown fox jumps over the lazy dog\" is a Pangram string'\n",
    "alpha=[]\n",
    "for i in range(ord('a'),ord('z')+1):\n",
    "    alpha.append(chr(i))\n",
    "\n",
    "def check_pangram(string):\n",
    "        for j in alpha:\n",
    "            if(j not in string):\n",
    "                return 'String is not pangram string'\n",
    "        return 'String is pangram string'\n",
    "check_pangram(string)"
   ]
  },
  {
   "cell_type": "markdown",
   "metadata": {},
   "source": [
    "### 13) Write a function that returns the number of uppercase and lowercase letters in the given string. \n",
    "#### example : Input : s1 = AbcDEfgh ,Ouptput : no_upper = 3, no_lower = 5"
   ]
  },
  {
   "cell_type": "code",
   "execution_count": 146,
   "metadata": {},
   "outputs": [
    {
     "name": "stdout",
     "output_type": "stream",
     "text": [
      "97\n",
      "65\n",
      "122\n",
      "90\n",
      "number of lower case is :  5\n",
      "number of upper case is :  3\n"
     ]
    }
   ],
   "source": [
    "s2='AbcDEfgh'\n",
    "print(ord('a'))\n",
    "print(ord('A'))\n",
    "print(ord('z'))\n",
    "print(ord('Z'))\n",
    "\n",
    "def count_case(s2):\n",
    "    no_upper=0\n",
    "    no_lower=0\n",
    "    for i in s2:\n",
    "        if(ord(i)>=97 and ord(i)<=122):\n",
    "            no_lower+=1\n",
    "        else:\n",
    "            no_upper+=1\n",
    "    print('number of lower case is : ',no_lower)\n",
    "    print('number of upper case is : ',no_upper)\n",
    "count_case(s2)"
   ]
  },
  {
   "cell_type": "markdown",
   "metadata": {},
   "source": [
    "### 14) Write a lambda function to get smallest number from the given two numbers."
   ]
  },
  {
   "cell_type": "code",
   "execution_count": 5,
   "metadata": {},
   "outputs": [
    {
     "name": "stdin",
     "output_type": "stream",
     "text": [
      "Enter num 1 : 2\n",
      "Enter num 2 : 3\n"
     ]
    },
    {
     "data": {
      "text/plain": [
       "2"
      ]
     },
     "execution_count": 5,
     "metadata": {},
     "output_type": "execute_result"
    }
   ],
   "source": [
    "n1=int(input('Enter num 1 :'))\n",
    "n2=int(input('Enter num 2 :'))\n",
    "small=lambda n1,n2:n2 if n1>n2 else n1\n",
    "small(n1,n2)"
   ]
  },
  {
   "cell_type": "markdown",
   "metadata": {},
   "source": [
    "### 15) For the given list of names of students, extract the names having more that 7 characters. Use filter()."
   ]
  },
  {
   "cell_type": "code",
   "execution_count": 15,
   "metadata": {},
   "outputs": [
    {
     "name": "stdout",
     "output_type": "stream",
     "text": [
      "['vrushika']\n"
     ]
    }
   ],
   "source": [
    "names=['Tanisha','pragati','Virangi','vrushika','pushti']\n",
    "ans=list(filter(lambda x:len(x) > 7, names))\n",
    "print(ans)"
   ]
  },
  {
   "cell_type": "markdown",
   "metadata": {},
   "source": [
    "### 16) For the given list of names of students, convert the first letter of all the names into uppercase. use map()."
   ]
  },
  {
   "cell_type": "code",
   "execution_count": 27,
   "metadata": {},
   "outputs": [
    {
     "data": {
      "text/plain": [
       "['Tanisha', 'Pragati', 'Virangi', 'Vrushika', 'Pushti']"
      ]
     },
     "execution_count": 27,
     "metadata": {},
     "output_type": "execute_result"
    }
   ],
   "source": [
    "names=['tanisha','pragati','virangi','vrushika','pushti']\n",
    "ans=list(map(lambda x:x.capitalize(),names))\n",
    "ans"
   ]
  },
  {
   "cell_type": "markdown",
   "metadata": {},
   "source": [
    "### 17) Write udfs to call the functions with following types of arguments:\n",
    "1. Positional Arguments\n",
    "2. Keyword Arguments\n",
    "3. Default Arguments\n",
    "4. Variable Legngth Positional(*args) & variable length Keyword Arguments (**kwargs)\n",
    "5. Keyword-Only & Positional Only Arguments"
   ]
  },
  {
   "cell_type": "code",
   "execution_count": 55,
   "metadata": {},
   "outputs": [
    {
     "name": "stdout",
     "output_type": "stream",
     "text": [
      "name is Nihar and age 12\n",
      "name is Tanisha and age 18\n",
      "name is Alice and age 18\n",
      "name is Alice and age 20\n",
      "(1, 2, 3)\n",
      "{'name': 'tanisha', 'age': 12}\n",
      "name is tanisha and age is 25\n",
      "name is tanisha and age is 19\n"
     ]
    }
   ],
   "source": [
    "def position_agrs(name,age):\n",
    "    print(f'name is {name} and age {age}')\n",
    "\n",
    "position_agrs('Nihar',12)\n",
    "\n",
    "def keyword_agrs(name,age):\n",
    "    print(f'name is {name} and age {age}')\n",
    "\n",
    "keyword_agrs(name='Tanisha',age=18)\n",
    "\n",
    "def default_agrs(name,age=18):\n",
    "    print(f'name is {name} and age {age}')\n",
    "\n",
    "default_agrs(name='Alice')\n",
    "default_agrs(name='Alice',age=20)\n",
    "\n",
    "def variable_len_positional(*args):\n",
    "    print(args)\n",
    "\n",
    "variable_len_positional(1,2,3)\n",
    "\n",
    "def variable_len_key(**kwards):\n",
    "    print(kwards)\n",
    "\n",
    "variable_len_key(name='tanisha',age=12)\n",
    "\n",
    "def keyword_only(name,*,age):\n",
    "    print(f'name is {name} and age is {age}')\n",
    "\n",
    "keyword_only('tanisha',age=25)\n",
    "\n",
    "def positional_only(name,/,age):\n",
    "    print(f'name is {name} and age is {age}')\n",
    "\n",
    "positional_only('tanisha',19)"
   ]
  },
  {
   "cell_type": "code",
   "execution_count": null,
   "metadata": {},
   "outputs": [],
   "source": []
  }
 ],
 "metadata": {
  "kernelspec": {
   "display_name": "Python 3 (ipykernel)",
   "language": "python",
   "name": "python3"
  },
  "language_info": {
   "codemirror_mode": {
    "name": "ipython",
    "version": 3
   },
   "file_extension": ".py",
   "mimetype": "text/x-python",
   "name": "python",
   "nbconvert_exporter": "python",
   "pygments_lexer": "ipython3",
   "version": "3.12.7"
  }
 },
 "nbformat": 4,
 "nbformat_minor": 4
}
