{
 "cells": [
  {
   "cell_type": "markdown",
   "metadata": {},
   "source": [
    "<a href='https://www.darshan.ac.in/'> <img src='https://www.darshan.ac.in/Content/media/DU_Logo.svg' width=\"250\" height=\"300\"/></a>\n",
    "<pre>\n",
    "<center><b><h1>Python Programming - 2301CS404</b></center>\n",
    "<center><b><h1>Tanisha Bhalodiya - 23010101021</b></center>\n",
    "<center><b><h1>Lab - 9</b></center>    \n",
    "<pre>"
   ]
  },
  {
   "cell_type": "markdown",
   "metadata": {},
   "source": [
    "# File I/O"
   ]
  },
  {
   "cell_type": "markdown",
   "metadata": {},
   "source": [
    "### 01) WAP to read and display the contents of a text file. (also try to open the file in some other directory) \n",
    "#### - in the form of a string\n",
    "#### - line by line\n",
    "#### - in the form of a list"
   ]
  },
  {
   "cell_type": "code",
   "execution_count": 35,
   "metadata": {},
   "outputs": [
    {
     "name": "stdout",
     "output_type": "stream",
     "text": [
      "...In form of string..................\n",
      "hi.\n",
      "hello from python...\n",
      "how are you ?\n",
      "<class 'str'>\n",
      "line by line...............\n",
      "hi.\n",
      "\n",
      "in the form of a list...........\n",
      "hi.\n",
      "hello from python...\n",
      "how are you ?"
     ]
    }
   ],
   "source": [
    "fp=open('file1.txt','r')\n",
    "print('...In form of string..................')\n",
    "data=fp.read()\n",
    "print(data)\n",
    "fp.close()\n",
    "print(type(data))\n",
    "\n",
    "print('line by line...............')\n",
    "fp=open('file1.txt','r')\n",
    "print(fp.readline())\n",
    "fp.close()\n",
    "\n",
    "print('in the form of a list...........')\n",
    "fp=open('file1.txt','r')\n",
    "li=fp.readlines()\n",
    "# print(li)\n",
    "\n",
    "for i in li:\n",
    "    print(i,end='')\n",
    "fp.close()"
   ]
  },
  {
   "cell_type": "markdown",
   "metadata": {},
   "source": [
    "### 02) WAP to create file named \"new.txt\" only if it doesn't exist."
   ]
  },
  {
   "cell_type": "code",
   "execution_count": 41,
   "metadata": {},
   "outputs": [],
   "source": [
    "fp=open('new.txt','w')\n",
    "fp.close()"
   ]
  },
  {
   "cell_type": "markdown",
   "metadata": {},
   "source": [
    "### 03) WAP to read first 5 lines from the text file."
   ]
  },
  {
   "cell_type": "code",
   "execution_count": 43,
   "metadata": {},
   "outputs": [
    {
     "name": "stdout",
     "output_type": "stream",
     "text": [
      "hi.\n",
      "\n",
      "hello from python...\n",
      "\n",
      "how are you ?\n",
      "\n",
      "Python is a high-level, \n",
      "\n",
      "general-purpose programming language. \n",
      "\n"
     ]
    }
   ],
   "source": [
    "fp=open('file1.txt','r')\n",
    "for i in range(5):\n",
    "    print(fp.readline())\n",
    "fp.close()"
   ]
  },
  {
   "cell_type": "markdown",
   "metadata": {},
   "source": [
    "### 04) WAP to find the longest word(s) in a file"
   ]
  },
  {
   "cell_type": "code",
   "execution_count": 49,
   "metadata": {},
   "outputs": [
    {
     "name": "stdout",
     "output_type": "stream",
     "text": [
      "['general-purpose']\n"
     ]
    }
   ],
   "source": [
    "with open('file1.txt', 'r') as file:\n",
    "        words = file.read().split()\n",
    "max_len=0\n",
    "for i in words:\n",
    "    if max_len<len(i) :\n",
    "        max_len=len(i)\n",
    "        longest_words=[i]\n",
    "    elif len(i) == max_len:\n",
    "        longest_words.append(i)\n",
    "\n",
    "# max_length = max(len(word) for word in words)\n",
    "# longest_words = [word for word in words if len(word) == max_length]\n",
    "print(longest_words)\n",
    "fp.close()"
   ]
  },
  {
   "cell_type": "markdown",
   "metadata": {},
   "source": [
    "### 05) WAP to count the no. of lines, words and characters in a given text file."
   ]
  },
  {
   "cell_type": "code",
   "execution_count": 63,
   "metadata": {},
   "outputs": [
    {
     "name": "stdout",
     "output_type": "stream",
     "text": [
      "Number of lines :  7\n",
      "Number of words :  7\n",
      "Number of characters :  52\n"
     ]
    }
   ],
   "source": [
    "lines=0\n",
    "words=0\n",
    "character=0\n",
    "with open('file1.txt','r') as file:\n",
    "    for i in file:\n",
    "        lines+=1\n",
    "        \n",
    "        words_array=i.split()\n",
    "        words=len(words_array)\n",
    "\n",
    "        character=len(i)\n",
    "print('Number of lines : ',lines)\n",
    "print('Number of words : ',words)\n",
    "print('Number of characters : ',character)"
   ]
  },
  {
   "cell_type": "markdown",
   "metadata": {},
   "source": [
    "### 06) WAP to copy the content of a file to the another file."
   ]
  },
  {
   "cell_type": "code",
   "execution_count": 65,
   "metadata": {},
   "outputs": [],
   "source": [
    "fp1=open('file1.txt','r')\n",
    "fp2=open('file2.txt','w')\n",
    "data=fp1.read()\n",
    "fp2.write(data)\n",
    "fp1.close()\n",
    "fp2.close()"
   ]
  },
  {
   "cell_type": "markdown",
   "metadata": {},
   "source": [
    "### 07) WAP to find the size of the text file. "
   ]
  },
  {
   "cell_type": "code",
   "execution_count": 67,
   "metadata": {},
   "outputs": [
    {
     "name": "stdout",
     "output_type": "stream",
     "text": [
      "size o file is :  194\n"
     ]
    }
   ],
   "source": [
    "with open('file1.txt','rb') as file:\n",
    "    # take cursor on the end of file\n",
    "    file.seek(0,2)\n",
    "    size_of_file=file.tell()\n",
    "print('size o file is : ',size_of_file)"
   ]
  },
  {
   "cell_type": "markdown",
   "metadata": {},
   "source": [
    "### 08) WAP to create an UDF named frequency to count occurances of the specific word in a given text file."
   ]
  },
  {
   "cell_type": "code",
   "execution_count": 85,
   "metadata": {},
   "outputs": [
    {
     "name": "stdout",
     "output_type": "stream",
     "text": [
      "Occurances of word python is 1\n"
     ]
    }
   ],
   "source": [
    "def frequency(filename,word):\n",
    "    c=0\n",
    "    with open(filename,'r') as file:\n",
    "        for i in file:\n",
    "            words_arr=i.split()\n",
    "            c+=words_arr.count(word)\n",
    "        print(f'Occurances of word {word} is {c}')\n",
    "frequency('file1.txt','python')"
   ]
  },
  {
   "cell_type": "markdown",
   "metadata": {},
   "source": [
    "### 09) WAP to get the score of five subjects from the user, store them in a file. Fetch those marks and find the highest score."
   ]
  },
  {
   "cell_type": "code",
   "execution_count": 121,
   "metadata": {},
   "outputs": [
    {
     "name": "stdin",
     "output_type": "stream",
     "text": [
      "Enter mark 10\n",
      "Enter mark 20\n",
      "Enter mark 30\n",
      "Enter mark 40\n",
      "Enter mark 50\n"
     ]
    },
    {
     "name": "stdout",
     "output_type": "stream",
     "text": [
      "Marks is written\n",
      "Highest score is :  50.0\n"
     ]
    }
   ],
   "source": [
    "max_score=0\n",
    "mark=[]\n",
    "for i in range(5):\n",
    "    m=int(input('Enter mark'))\n",
    "    mark.append(m)\n",
    "\n",
    "with open('marks.txt','w') as file:\n",
    "    for i in mark:\n",
    "        file.write(f'{i}\\n')\n",
    "\n",
    "print('Marks is written')\n",
    "\n",
    "with open('marks.txt','r') as file:\n",
    "    mark=[float(i.strip()) for i in file]\n",
    "    \n",
    "print('Highest score is : ',max(mark))"
   ]
  },
  {
   "cell_type": "markdown",
   "metadata": {},
   "source": [
    "<h3>10) WAP to write first 100 prime numbers to a file named primenumbers.txt </h3>\n",
    "(Note: each number should be in new line)"
   ]
  },
  {
   "cell_type": "code",
   "execution_count": 158,
   "metadata": {},
   "outputs": [
    {
     "name": "stdout",
     "output_type": "stream",
     "text": [
      "The prime numbers written to 'primenumbers.txt'.\n"
     ]
    }
   ],
   "source": [
    "prime = []\n",
    "for n in range(2, 101): \n",
    "    for i in range(2, int(n/2) + 1):\n",
    "        if n % i == 0: \n",
    "            break\n",
    "    else:\n",
    "        prime.append(n) \n",
    "\n",
    "with open('primenumbers.txt', 'w') as file:\n",
    "    for p in prime:\n",
    "        file.write(f\"{p}\\n\")\n",
    "        \n",
    "print(\"The prime numbers written to 'primenumbers.txt'.\")\n"
   ]
  },
  {
   "cell_type": "markdown",
   "metadata": {},
   "source": [
    "### 11) WAP to merge two files and write it in a new file."
   ]
  },
  {
   "cell_type": "code",
   "execution_count": 162,
   "metadata": {},
   "outputs": [],
   "source": [
    "with open('file3.txt','w+') as f1:\n",
    "    with open('file1.txt','r') as f2:\n",
    "        f1.write(f2.read())\n",
    "    with open('file2.txt','r') as f3:\n",
    "        f1.write(f3.read())"
   ]
  },
  {
   "cell_type": "markdown",
   "metadata": {},
   "source": [
    "### 12) WAP to replace word1 by word2 of a text file. Write the updated data to new file."
   ]
  },
  {
   "cell_type": "code",
   "execution_count": 180,
   "metadata": {},
   "outputs": [
    {
     "name": "stdin",
     "output_type": "stream",
     "text": [
      "Enter word 1 :  python\n",
      "Enter word 2 :  PYTHON\n"
     ]
    }
   ],
   "source": [
    "word1=input('Enter word 1 : ')\n",
    "word2=input('Enter word 2 : ')\n",
    "with open('file4.txt','w+') as f1:\n",
    "    with open('file3.txt','r') as f2:\n",
    "        data=f2.read()\n",
    "    updated_data=data.replace(word1,word2)\n",
    "    f1.write(updated_data)"
   ]
  },
  {
   "cell_type": "markdown",
   "metadata": {},
   "source": [
    "### 13) Demonstrate tell() and seek() for all the cases(seek from beginning-end-current position) taking a suitable example of your choice."
   ]
  },
  {
   "cell_type": "code",
   "execution_count": 212,
   "metadata": {},
   "outputs": [
    {
     "name": "stdout",
     "output_type": "stream",
     "text": [
      "0\n",
      "5\n"
     ]
    }
   ],
   "source": [
    "with open('file1.txt','r') as file:\n",
    "    print(file.tell())\n",
    "    file.seek(5)\n",
    "    print(file.tell())\n",
    "    \n",
    "    "
   ]
  },
  {
   "cell_type": "code",
   "execution_count": 5,
   "metadata": {},
   "outputs": [
    {
     "name": "stdout",
     "output_type": "stream",
     "text": [
      "xyz\n",
      "20\n"
     ]
    }
   ],
   "source": [
    "\n",
    "# EXCEPTION HANDLING\n",
    "\n",
    "class Person:\n",
    "    def __init__(self,name,age):\n",
    "        self.name=name\n",
    "        self.age=age\n",
    "\n",
    "\n",
    "p1=Person('xyz',20)\n",
    "print(p1.name)\n",
    "print(p1.age)"
   ]
  },
  {
   "cell_type": "code",
   "execution_count": null,
   "metadata": {
    "scrolled": true
   },
   "outputs": [],
   "source": []
  },
  {
   "cell_type": "code",
   "execution_count": 21,
   "metadata": {},
   "outputs": [
    {
     "name": "stdout",
     "output_type": "stream",
     "text": [
      "before try block\n"
     ]
    },
    {
     "name": "stdin",
     "output_type": "stream",
     "text": [
      "Enter n :  5\n"
     ]
    },
    {
     "name": "stdout",
     "output_type": "stream",
     "text": [
      "5.0\n",
      "terminate\n"
     ]
    }
   ],
   "source": [
    "print('before try block')\n",
    "try:\n",
    "    a=int(input('Enter n : '))\n",
    "    print(a/1)\n",
    "except ZeroDivisionError:\n",
    "    print('Some error has generate')\n",
    "except:\n",
    "    print('DEFAULT ERROR')\n",
    "print('terminate')"
   ]
  },
  {
   "cell_type": "code",
   "execution_count": null,
   "metadata": {},
   "outputs": [],
   "source": []
  }
 ],
 "metadata": {
  "kernelspec": {
   "display_name": "Python 3 (ipykernel)",
   "language": "python",
   "name": "python3"
  },
  "language_info": {
   "codemirror_mode": {
    "name": "ipython",
    "version": 3
   },
   "file_extension": ".py",
   "mimetype": "text/x-python",
   "name": "python",
   "nbconvert_exporter": "python",
   "pygments_lexer": "ipython3",
   "version": "3.12.7"
  }
 },
 "nbformat": 4,
 "nbformat_minor": 4
}
